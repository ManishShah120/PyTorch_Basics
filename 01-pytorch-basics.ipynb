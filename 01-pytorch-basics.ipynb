{
 "cells": [
  {
   "cell_type": "code",
   "execution_count": 1,
   "metadata": {},
   "outputs": [],
   "source": [
    "import torch"
   ]
  },
  {
   "cell_type": "code",
   "execution_count": 2,
   "metadata": {},
   "outputs": [
    {
     "name": "stdout",
     "output_type": "stream",
     "text": [
      "tensor(4.)\n"
     ]
    },
    {
     "data": {
      "text/plain": [
       "torch.Size([])"
      ]
     },
     "execution_count": 2,
     "metadata": {},
     "output_type": "execute_result"
    }
   ],
   "source": [
    "# Number\n",
    "t1 = torch.tensor(4.)\n",
    "print(t1)\n",
    "t1.shape # prints an empty array because this is acaler"
   ]
  },
  {
   "cell_type": "code",
   "execution_count": 3,
   "metadata": {},
   "outputs": [
    {
     "data": {
      "text/plain": [
       "torch.float32"
      ]
     },
     "execution_count": 3,
     "metadata": {},
     "output_type": "execute_result"
    }
   ],
   "source": [
    "t1.dtype"
   ]
  },
  {
   "cell_type": "code",
   "execution_count": 4,
   "metadata": {},
   "outputs": [
    {
     "name": "stdout",
     "output_type": "stream",
     "text": [
      "tensor([1., 2., 3., 4.])\n"
     ]
    },
    {
     "data": {
      "text/plain": [
       "torch.Size([4])"
      ]
     },
     "execution_count": 4,
     "metadata": {},
     "output_type": "execute_result"
    }
   ],
   "source": [
    "# Vector\n",
    "t2 = torch.tensor([1., 2, 3, 4])\n",
    "print(t2)\n",
    "t2.shape"
   ]
  },
  {
   "cell_type": "code",
   "execution_count": 5,
   "metadata": {},
   "outputs": [
    {
     "name": "stdout",
     "output_type": "stream",
     "text": [
      "tensor([[ 5,  6],\n",
      "        [ 7,  8],\n",
      "        [ 9, 10]])\n"
     ]
    },
    {
     "data": {
      "text/plain": [
       "torch.Size([3, 2])"
      ]
     },
     "execution_count": 5,
     "metadata": {},
     "output_type": "execute_result"
    }
   ],
   "source": [
    "# Matrix\n",
    "t3 = torch.tensor([\n",
    "    [5, 6],\n",
    "    [7, 8],\n",
    "    [9, 10]\n",
    "])\n",
    "print(t3)\n",
    "t3.shape"
   ]
  },
  {
   "cell_type": "code",
   "execution_count": 6,
   "metadata": {},
   "outputs": [
    {
     "name": "stdout",
     "output_type": "stream",
     "text": [
      "tensor([[[11., 12., 13.],\n",
      "         [13., 14., 15.]],\n",
      "\n",
      "        [[15., 16., 17.],\n",
      "         [17., 18., 19.]]])\n"
     ]
    },
    {
     "data": {
      "text/plain": [
       "torch.Size([2, 2, 3])"
      ]
     },
     "execution_count": 6,
     "metadata": {},
     "output_type": "execute_result"
    }
   ],
   "source": [
    "# 3-Dimensional Array\n",
    "t4 = torch.tensor([\n",
    " [\n",
    "     [11, 12, 13],\n",
    "     [13, 14, 15]\n",
    " ],\n",
    " [\n",
    "     [15, 16, 17],\n",
    "     [17, 18, 19.]\n",
    " ]\n",
    "])\n",
    "print(t4)\n",
    "t4.shape"
   ]
  },
  {
   "cell_type": "markdown",
   "metadata": {},
   "source": [
    "# Tensor Operations and gradients"
   ]
  },
  {
   "cell_type": "code",
   "execution_count": 7,
   "metadata": {},
   "outputs": [
    {
     "name": "stdout",
     "output_type": "stream",
     "text": [
      "X:  tensor(3.)\n",
      "Shape of X:  torch.Size([])\n",
      "\n",
      "W:  tensor(4., requires_grad=True)\n",
      "Shape of W:  torch.Size([])\n",
      "\n",
      "B:  tensor(5., requires_grad=True)\n",
      "Shape of B:  torch.Size([])\n"
     ]
    }
   ],
   "source": [
    "# Create tensors.\n",
    "x = torch.tensor(3.)\n",
    "w = torch.tensor(4., requires_grad=True)\n",
    "b = torch.tensor(5., requires_grad=True)\n",
    "print(\"X: \",x)\n",
    "print(\"Shape of X: \",x.shape)\n",
    "\n",
    "print(\"\\nW: \",w)\n",
    "print(\"Shape of W: \",w.shape)\n",
    "\n",
    "print(\"\\nB: \",b)\n",
    "print(\"Shape of B: \",b.shape)"
   ]
  },
  {
   "cell_type": "code",
   "execution_count": 8,
   "metadata": {},
   "outputs": [
    {
     "data": {
      "text/plain": [
       "tensor(17., grad_fn=<AddBackward0>)"
      ]
     },
     "execution_count": 8,
     "metadata": {},
     "output_type": "execute_result"
    }
   ],
   "source": [
    "#Arithmatic Operations\n",
    "y = w*x + b\n",
    "y"
   ]
  },
  {
   "cell_type": "markdown",
   "metadata": {},
   "source": [
    "# What makes PyTorch special\n",
    "We can automatically compute the derivative of `y` w.r.t the tensors that have `requires_grad` set to `True`\n",
    "# What is Gradient?\n",
    "Well it is the another term for derivative and it is used mainly when dealing with matrises and tensors."
   ]
  },
  {
   "cell_type": "code",
   "execution_count": 9,
   "metadata": {},
   "outputs": [],
   "source": [
    "# Computing derivatives\n",
    "y.backward()\n",
    "# Now the derivatives of `y` w.r.t the input tensors are stored in the `.grad` property of the respective tensors"
   ]
  },
  {
   "cell_type": "code",
   "execution_count": 10,
   "metadata": {},
   "outputs": [
    {
     "name": "stdout",
     "output_type": "stream",
     "text": [
      "dy/dx:  None\n",
      "dy/dw:  tensor(3.)\n",
      "dy/db:  tensor(1.)\n"
     ]
    }
   ],
   "source": [
    "# Disaplying Derivatives\n",
    "print('dy/dx: ', x.grad)\n",
    "print('dy/dw: ', w.grad)\n",
    "print('dy/db: ', b.grad)"
   ]
  },
  {
   "cell_type": "markdown",
   "metadata": {},
   "source": [
    "#### ------Basic intro to tensors and its operation in pytorch-----\n",
    "#### ----------------The End---------"
   ]
  },
  {
   "cell_type": "markdown",
   "metadata": {},
   "source": [
    "## Introperability with Numpy"
   ]
  },
  {
   "cell_type": "code",
   "execution_count": 11,
   "metadata": {},
   "outputs": [
    {
     "name": "stdout",
     "output_type": "stream",
     "text": [
      "[[1. 2.]\n",
      " [3. 4.]]\n",
      "(2, 2)\n",
      "float64\n"
     ]
    }
   ],
   "source": [
    "import numpy as np\n",
    "\n",
    "x = np.array([[1, 2], [3, 4.]])\n",
    "print(x)\n",
    "print(x.shape)\n",
    "print(x.dtype)"
   ]
  },
  {
   "cell_type": "markdown",
   "metadata": {},
   "source": [
    "We can convert a Numpy array to PyTorch tensors using `torch.from_numpy`"
   ]
  },
  {
   "cell_type": "code",
   "execution_count": 12,
   "metadata": {},
   "outputs": [
    {
     "name": "stdout",
     "output_type": "stream",
     "text": [
      "tensor([[1., 2.],\n",
      "        [3., 4.]], dtype=torch.float64)\n"
     ]
    },
    {
     "data": {
      "text/plain": [
       "torch.float64"
      ]
     },
     "execution_count": 12,
     "metadata": {},
     "output_type": "execute_result"
    }
   ],
   "source": [
    "# Converting the numpy array to a torch tensor.\n",
    "y = torch.from_numpy(x)\n",
    "print(y)\n",
    "y.dtype"
   ]
  },
  {
   "cell_type": "markdown",
   "metadata": {},
   "source": [
    "We can also convert a PyTorch tensor to a numpy array using the`.numpy` method of a tensor"
   ]
  },
  {
   "cell_type": "code",
   "execution_count": 13,
   "metadata": {},
   "outputs": [
    {
     "name": "stdout",
     "output_type": "stream",
     "text": [
      "[[1. 2.]\n",
      " [3. 4.]]\n"
     ]
    },
    {
     "data": {
      "text/plain": [
       "dtype('float64')"
      ]
     },
     "execution_count": 13,
     "metadata": {},
     "output_type": "execute_result"
    }
   ],
   "source": [
    "# Converting a torch tensor to a numpy array\n",
    "z = y.numpy()\n",
    "print(z)\n",
    "z.dtype"
   ]
  },
  {
   "cell_type": "code",
   "execution_count": 2,
   "metadata": {},
   "outputs": [
    {
     "name": "stdout",
     "output_type": "stream",
     "text": [
      "Collecting jovian\n",
      "  Using cached jovian-0.2.14-py2.py3-none-any.whl (83 kB)\n",
      "Requirement already satisfied: click in /home/manish/anaconda3/lib/python3.7/site-packages (from jovian) (7.0)\n",
      "Requirement already satisfied: pyyaml in /home/manish/anaconda3/lib/python3.7/site-packages (from jovian) (5.3)\n",
      "Collecting uuid\n",
      "  Using cached uuid-1.30.tar.gz (5.8 kB)\n",
      "Requirement already satisfied: requests in /home/manish/anaconda3/lib/python3.7/site-packages (from jovian) (2.22.0)\n",
      "Requirement already satisfied: certifi>=2017.4.17 in /home/manish/anaconda3/lib/python3.7/site-packages (from requests->jovian) (2019.11.28)\n",
      "Requirement already satisfied: urllib3!=1.25.0,!=1.25.1,<1.26,>=1.21.1 in /home/manish/anaconda3/lib/python3.7/site-packages (from requests->jovian) (1.25.8)\n",
      "Requirement already satisfied: idna<2.9,>=2.5 in /home/manish/anaconda3/lib/python3.7/site-packages (from requests->jovian) (2.8)\n",
      "Requirement already satisfied: chardet<3.1.0,>=3.0.2 in /home/manish/anaconda3/lib/python3.7/site-packages (from requests->jovian) (3.0.4)\n",
      "Building wheels for collected packages: uuid\n",
      "  Building wheel for uuid (setup.py) ... \u001b[?25ldone\n",
      "\u001b[?25h  Created wheel for uuid: filename=uuid-1.30-py3-none-any.whl size=6500 sha256=e8052ee9bb3be40916ac2c568b9348ed3a9dbbfad432932bfffb50e0a447860d\n",
      "  Stored in directory: /home/manish/.cache/pip/wheels/2a/ea/87/dd57f1ecb4f0752f3e1dbf958ebf8b36d920d190425bcdc24d\n",
      "Successfully built uuid\n",
      "Installing collected packages: uuid, jovian\n",
      "Successfully installed jovian-0.2.14 uuid-1.30\n"
     ]
    }
   ],
   "source": [
    "!pip install jovian"
   ]
  },
  {
   "cell_type": "code",
   "execution_count": 4,
   "metadata": {},
   "outputs": [
    {
     "data": {
      "application/javascript": [
       "if (window.IPython && IPython.notebook.kernel) IPython.notebook.kernel.execute('jovian.utils.jupyter.get_notebook_name_saved = lambda: \"' + IPython.notebook.notebook_name + '\"')"
      ],
      "text/plain": [
       "<IPython.core.display.Javascript object>"
      ]
     },
     "metadata": {},
     "output_type": "display_data"
    },
    {
     "data": {
      "application/javascript": [
       "window.require && require([\"base/js/namespace\"],function(Jupyter){Jupyter.notebook.save_checkpoint()})"
      ],
      "text/plain": [
       "<IPython.core.display.Javascript object>"
      ]
     },
     "metadata": {},
     "output_type": "display_data"
    },
    {
     "name": "stdout",
     "output_type": "stream",
     "text": [
      "[jovian] Attempting to save notebook..\n",
      "[jovian] Please enter your API key ( from https://jovian.ml/ ):\n",
      "API KEY: ········\n",
      "[jovian] Uploading notebook..\n",
      "[jovian] Capturing environment..\n",
      "[jovian] Committed successfully! https://jovian.ml/manishshah120/01-pytorch-basics-2e5a0\n"
     ]
    },
    {
     "data": {
      "text/plain": [
       "'https://jovian.ml/manishshah120/01-pytorch-basics-2e5a0'"
      ]
     },
     "execution_count": 4,
     "metadata": {},
     "output_type": "execute_result"
    }
   ],
   "source": [
    "import jovian\n",
    "jovian.commit()"
   ]
  },
  {
   "cell_type": "markdown",
   "metadata": {},
   "source": [
    "### Further Reading\n",
    "You can learn more about tensors and tensor operations here: https://pytorch.org/docs/stable/tensors.html\n",
    "<br/>https://github.com/yunjey/pytorch-tutorial\n",
    "https://github.com/fastai/fastai_dev/tree/master/dev_nb"
   ]
  },
  {
   "cell_type": "code",
   "execution_count": 5,
   "metadata": {},
   "outputs": [
    {
     "data": {
      "application/javascript": [
       "window.require && require([\"base/js/namespace\"],function(Jupyter){Jupyter.notebook.save_checkpoint()})"
      ],
      "text/plain": [
       "<IPython.core.display.Javascript object>"
      ]
     },
     "metadata": {},
     "output_type": "display_data"
    },
    {
     "name": "stdout",
     "output_type": "stream",
     "text": [
      "[jovian] Attempting to save notebook..\n",
      "[jovian] Updating notebook \"manishshah120/01-pytorch-basics-2e5a0\" on https://jovian.ml/\n",
      "[jovian] Uploading notebook..\n",
      "[jovian] Capturing environment..\n",
      "[jovian] Committed successfully! https://jovian.ml/manishshah120/01-pytorch-basics-2e5a0\n"
     ]
    },
    {
     "data": {
      "text/plain": [
       "'https://jovian.ml/manishshah120/01-pytorch-basics-2e5a0'"
      ]
     },
     "execution_count": 5,
     "metadata": {},
     "output_type": "execute_result"
    }
   ],
   "source": [
    "jovian.commit()"
   ]
  },
  {
   "cell_type": "code",
   "execution_count": null,
   "metadata": {},
   "outputs": [],
   "source": []
  }
 ],
 "metadata": {
  "kernelspec": {
   "display_name": "Python 3",
   "language": "python",
   "name": "python3"
  },
  "language_info": {
   "codemirror_mode": {
    "name": "ipython",
    "version": 3
   },
   "file_extension": ".py",
   "mimetype": "text/x-python",
   "name": "python",
   "nbconvert_exporter": "python",
   "pygments_lexer": "ipython3",
   "version": "3.7.6"
  }
 },
 "nbformat": 4,
 "nbformat_minor": 4
}
