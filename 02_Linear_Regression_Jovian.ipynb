{
  "nbformat": 4,
  "nbformat_minor": 0,
  "metadata": {
    "colab": {
      "name": "02-Linear-Regression-Jovian.ipynb",
      "provenance": []
    },
    "kernelspec": {
      "name": "python3",
      "display_name": "Python 3"
    }
  },
  "cells": [
    {
      "cell_type": "code",
      "metadata": {
        "id": "kTgch9fQKv08",
        "colab_type": "code",
        "colab": {}
      },
      "source": [
        "import numpy as np\n",
        "import torch"
      ],
      "execution_count": 0,
      "outputs": []
    },
    {
      "cell_type": "code",
      "metadata": {
        "id": "jWQP_hpdLN1r",
        "colab_type": "code",
        "colab": {}
      },
      "source": [
        "# Loading Inputs\n",
        "inputs = np.array([\n",
        "                   [73, 67, 43],\n",
        "                   [91, 88, 64],\n",
        "                   [87, 134, 58],\n",
        "                   [102, 43, 37],\n",
        "                   [69, 96, 70]\n",
        "],dtype='float32')"
      ],
      "execution_count": 0,
      "outputs": []
    },
    {
      "cell_type": "code",
      "metadata": {
        "id": "ZFSVIbPELu82",
        "colab_type": "code",
        "colab": {}
      },
      "source": [
        "# Loading Targets\n",
        "targets = np.array([\n",
        "                    [56, 70],\n",
        "                    [81, 101],\n",
        "                    [119, 133],\n",
        "                    [22, 37],\n",
        "                    [103, 119]\n",
        "],dtype='float32')"
      ],
      "execution_count": 0,
      "outputs": []
    },
    {
      "cell_type": "code",
      "metadata": {
        "id": "yeKRcu2nMBSo",
        "colab_type": "code",
        "colab": {
          "base_uri": "https://localhost:8080/",
          "height": 221
        },
        "outputId": "332ce3cb-f4b4-448c-a877-5cee74f378da"
      },
      "source": [
        "# Converting from numpy to tensor type\n",
        "inputs = torch.from_numpy(inputs)\n",
        "targets = torch.from_numpy(targets)\n",
        "print('Inputs: \\n',inputs)\n",
        "print('Targets: \\n',targets)"
      ],
      "execution_count": 4,
      "outputs": [
        {
          "output_type": "stream",
          "text": [
            "Inputs: \n",
            " tensor([[ 73.,  67.,  43.],\n",
            "        [ 91.,  88.,  64.],\n",
            "        [ 87., 134.,  58.],\n",
            "        [102.,  43.,  37.],\n",
            "        [ 69.,  96.,  70.]])\n",
            "Targets: \n",
            " tensor([[ 56.,  70.],\n",
            "        [ 81., 101.],\n",
            "        [119., 133.],\n",
            "        [ 22.,  37.],\n",
            "        [103., 119.]])\n"
          ],
          "name": "stdout"
        }
      ]
    },
    {
      "cell_type": "code",
      "metadata": {
        "id": "XaRTGp-cMY8Y",
        "colab_type": "code",
        "colab": {
          "base_uri": "https://localhost:8080/",
          "height": 102
        },
        "outputId": "d96374e0-b159-483f-f4b8-714ef7e4df02"
      },
      "source": [
        "# Weights and Biases\n",
        "w = torch.randn(2, 3, requires_grad=True)\n",
        "b = torch.randn(2, requires_grad=True)\n",
        "print('w: \\n',w)\n",
        "print('b: \\n',b)"
      ],
      "execution_count": 5,
      "outputs": [
        {
          "output_type": "stream",
          "text": [
            "w: \n",
            " tensor([[-1.3104, -0.0317,  0.8074],\n",
            "        [ 0.7401, -1.4553, -0.3729]], requires_grad=True)\n",
            "b: \n",
            " tensor([-0.7928,  2.0275], requires_grad=True)\n"
          ],
          "name": "stdout"
        }
      ]
    },
    {
      "cell_type": "code",
      "metadata": {
        "id": "1A6MmbJNM36q",
        "colab_type": "code",
        "colab": {
          "base_uri": "https://localhost:8080/",
          "height": 306
        },
        "outputId": "3414d7af-1fd7-41a4-f70c-0bc5413d6b45"
      },
      "source": [
        "# Printing all the values\n",
        "print('Inputs: \\n',inputs,\n",
        "      '\\nTargets: \\n',targets,\n",
        "      '\\nw: \\n',w,\n",
        "      '\\nb: \\n',b)"
      ],
      "execution_count": 6,
      "outputs": [
        {
          "output_type": "stream",
          "text": [
            "Inputs: \n",
            " tensor([[ 73.,  67.,  43.],\n",
            "        [ 91.,  88.,  64.],\n",
            "        [ 87., 134.,  58.],\n",
            "        [102.,  43.,  37.],\n",
            "        [ 69.,  96.,  70.]]) \n",
            "Targets: \n",
            " tensor([[ 56.,  70.],\n",
            "        [ 81., 101.],\n",
            "        [119., 133.],\n",
            "        [ 22.,  37.],\n",
            "        [103., 119.]]) \n",
            "w: \n",
            " tensor([[-1.3104, -0.0317,  0.8074],\n",
            "        [ 0.7401, -1.4553, -0.3729]], requires_grad=True) \n",
            "b: \n",
            " tensor([-0.7928,  2.0275], requires_grad=True)\n"
          ],
          "name": "stdout"
        }
      ]
    },
    {
      "cell_type": "code",
      "metadata": {
        "id": "QHubhDdkN-Qm",
        "colab_type": "code",
        "colab": {}
      },
      "source": [
        "# Defining the model\n",
        "def model(x):\n",
        "    return x@w.t() + b"
      ],
      "execution_count": 0,
      "outputs": []
    },
    {
      "cell_type": "code",
      "metadata": {
        "id": "JLR36smkPMpZ",
        "colab_type": "code",
        "colab": {
          "base_uri": "https://localhost:8080/",
          "height": 119
        },
        "outputId": "993e62a9-8710-4b5b-8176-5cefa9700184"
      },
      "source": [
        "# Generating the predictions\n",
        "preds = model(inputs)\n",
        "print('Predictions: \\n', preds)"
      ],
      "execution_count": 8,
      "outputs": [
        {
          "output_type": "stream",
          "text": [
            "Predictions: \n",
            " tensor([[ -63.8524,  -57.4898],\n",
            "        [ -71.1487,  -82.5619],\n",
            "        [ -72.2077, -150.2290],\n",
            "        [-105.9372,    1.1377],\n",
            "        [ -37.7299, -112.7237]], grad_fn=<AddBackward0>)\n"
          ],
          "name": "stdout"
        }
      ]
    },
    {
      "cell_type": "code",
      "metadata": {
        "id": "3Cl8WzROP0Op",
        "colab_type": "code",
        "colab": {
          "base_uri": "https://localhost:8080/",
          "height": 136
        },
        "outputId": "ec09e14f-262e-4c9c-ca85-f9a942a79460"
      },
      "source": [
        "#Comparing with targets\n",
        "print(\"Difference between the TARGETS and PREDICTIONS: \\nTARGETS-PREDICTOINS: \\n\", targets-preds)"
      ],
      "execution_count": 9,
      "outputs": [
        {
          "output_type": "stream",
          "text": [
            "Difference between the TARGETS and PREDICTIONS: \n",
            "TARGETS-PREDICTOINS: \n",
            " tensor([[119.8524, 127.4898],\n",
            "        [152.1487, 183.5619],\n",
            "        [191.2077, 283.2289],\n",
            "        [127.9372,  35.8624],\n",
            "        [140.7299, 231.7237]], grad_fn=<SubBackward0>)\n"
          ],
          "name": "stdout"
        }
      ]
    },
    {
      "cell_type": "markdown",
      "metadata": {
        "id": "k7yhXTS1Q0BZ",
        "colab_type": "text"
      },
      "source": [
        "So we Got a huge difference with the predictions and the targets\n",
        "**But** we can't compare in this manner beacuse we don't know which array has the highest or tghe lowest elements or are they containing negative element too. so we can calculate the difference between the predictions and the targets with the help of **LOSS FUNCTION** i.e., **MSE** (Mean Square Error)Loss"
      ]
    },
    {
      "cell_type": "code",
      "metadata": {
        "id": "_dNr5iFUQa4V",
        "colab_type": "code",
        "colab": {}
      },
      "source": [
        "# Lets Calculate the loss with the LOSS functions\n",
        "def mse(t1, t2):\n",
        "    diff = t1 - t2\n",
        "    return torch.sum(diff*diff)/diff.numel()"
      ],
      "execution_count": 0,
      "outputs": []
    },
    {
      "cell_type": "code",
      "metadata": {
        "id": "n7Dv2xMBSqny",
        "colab_type": "code",
        "colab": {
          "base_uri": "https://localhost:8080/",
          "height": 51
        },
        "outputId": "e3cc40c1-ac9a-4a38-e068-648722a5c9ad"
      },
      "source": [
        "# Lets compute the loss\n",
        "loss = mse(preds, targets)\n",
        "print('Loss: \\n', loss)"
      ],
      "execution_count": 11,
      "outputs": [
        {
          "output_type": "stream",
          "text": [
            "Loss: \n",
            " tensor(29539.6250, grad_fn=<DivBackward0>)\n"
          ],
          "name": "stdout"
        }
      ]
    },
    {
      "cell_type": "markdown",
      "metadata": {
        "id": "SFb_xGnNfKan",
        "colab_type": "text"
      },
      "source": [
        "# **------------Gradient Descent------------**start"
      ]
    },
    {
      "cell_type": "markdown",
      "metadata": {
        "id": "qXM17BhOTS9r",
        "colab_type": "text"
      },
      "source": [
        "With PyTorch, we can automatically compute the gradient or derivative of the loss w.r.t. to the weights and biases, because they have `requires_grad` set to `True`\n",
        "**Compute gradients**"
      ]
    },
    {
      "cell_type": "code",
      "metadata": {
        "id": "sao7qjt3S1kP",
        "colab_type": "code",
        "colab": {}
      },
      "source": [
        "# Compute gradients\n",
        "loss.backward()"
      ],
      "execution_count": 0,
      "outputs": []
    },
    {
      "cell_type": "markdown",
      "metadata": {
        "id": "10y4i5vEXGBZ",
        "colab_type": "text"
      },
      "source": [
        "The calculated gradients are stored in the `.grad` preoperty of the respective tensors"
      ]
    },
    {
      "cell_type": "code",
      "metadata": {
        "id": "_gD6xDCRXFsj",
        "colab_type": "code",
        "colab": {
          "base_uri": "https://localhost:8080/",
          "height": 119
        },
        "outputId": "14051009-17c4-429e-e574-86f30a6362f7"
      },
      "source": [
        "# Gradients for weights\n",
        "print('W: \\n', w)\n",
        "print('Calculated gradient of W: \\n', w.grad)"
      ],
      "execution_count": 13,
      "outputs": [
        {
          "output_type": "stream",
          "text": [
            "W: \n",
            " tensor([[-1.3104, -0.0317,  0.8074],\n",
            "        [ 0.7401, -1.4553, -0.3729]], requires_grad=True)\n",
            "Calculated gradient of W: \n",
            " tensor([[-12397.9570, -13210.4795,  -8113.1978],\n",
            "        [-14059.7402, -17287.0996, -10240.9736]])\n"
          ],
          "name": "stdout"
        }
      ]
    },
    {
      "cell_type": "markdown",
      "metadata": {
        "id": "Y7mkCl3zX4P4",
        "colab_type": "text"
      },
      "source": [
        "The `loss` is a quadratic function of our `weights` and `biases`, and **our objective is to find the set of weights where the loss is the lowest**. "
      ]
    },
    {
      "cell_type": "markdown",
      "metadata": {
        "id": "nPwjbvi_Y7eG",
        "colab_type": "text"
      },
      "source": [
        "If a gradient element is **positive**:\n",
        "\n",
        "- **increasing** the element's value slightly will **increase** the loss.\n",
        "\n",
        "- **decreasing** the element's value slightly will **decrease** the loss\n",
        "\n",
        "![Graph1](https://i.imgur.com/hFYoVgU.png)"
      ]
    },
    {
      "cell_type": "markdown",
      "metadata": {
        "id": "NZKr0_-2ZWNy",
        "colab_type": "text"
      },
      "source": [
        "If a gradient element is **negative**:\n",
        "\n",
        "**increasing** the element's value slightly will **decrease** the loss.\n",
        "\n",
        "**decreasing** the element's value slightly will **increase** the loss.\n",
        "\n",
        "![Graph2](https://i.imgur.com/w3Wii7C.png)"
      ]
    },
    {
      "cell_type": "markdown",
      "metadata": {
        "id": "FQVLr71uZwz-",
        "colab_type": "text"
      },
      "source": [
        "Before we proceed, we reset the gradients to zero by calling .zero_() method. We need to do this, because PyTorch accumulates, gradients i.e. the next time we call .backward on the loss, the new gradient values will get added to the existing gradient values, which may lead to unexpected results.\n"
      ]
    },
    {
      "cell_type": "code",
      "metadata": {
        "id": "gS6VKRfuZDdM",
        "colab_type": "code",
        "colab": {}
      },
      "source": [
        ""
      ],
      "execution_count": 0,
      "outputs": []
    },
    {
      "cell_type": "code",
      "metadata": {
        "id": "lQavLwk3ZDak",
        "colab_type": "code",
        "colab": {
          "base_uri": "https://localhost:8080/",
          "height": 68
        },
        "outputId": "41a2243a-f169-4ef0-a306-a95a855e5542"
      },
      "source": [
        "w.grad.zero_()\n",
        "b.grad.zero_()\n",
        "print(w.grad)\n",
        "print(b.grad)"
      ],
      "execution_count": 35,
      "outputs": [
        {
          "output_type": "stream",
          "text": [
            "tensor([[0., 0., 0.],\n",
            "        [0., 0., 0.]])\n",
            "tensor([0., 0.])\n"
          ],
          "name": "stdout"
        }
      ]
    },
    {
      "cell_type": "markdown",
      "metadata": {
        "id": "FVeXOMTRaZ1D",
        "colab_type": "text"
      },
      "source": [
        "# **In any Linear regression model our main aim is to adjust the weights and the biasses** Using **gradient descent to reduce the loss and increase our accuracy percentage**"
      ]
    },
    {
      "cell_type": "markdown",
      "metadata": {
        "id": "U_Jwf4mqbEwh",
        "colab_type": "text"
      },
      "source": [
        "We'll reduce the loss and improve our model using the gradient descent optimization algorithm, which has the following steps:\n",
        "\n",
        "1. Generate predictions\n",
        "\n",
        "2. Calculate the loss\n",
        "\n",
        "3. Compute gradients w.r.t the weights and biases\n",
        "\n",
        "4. Adjust the weights by subtracting a small quantity proportional to the gradient\n",
        "\n",
        "5. Reset the gradients to zero\n",
        "\n",
        "Let's implement the above step by step."
      ]
    },
    {
      "cell_type": "code",
      "metadata": {
        "id": "v5EckXv9W3F7",
        "colab_type": "code",
        "colab": {
          "base_uri": "https://localhost:8080/",
          "height": 119
        },
        "outputId": "f5d741e7-21e5-43c1-aa3a-7c03d262915e"
      },
      "source": [
        "# 1. Generate predictions\n",
        "preds = model(inputs)\n",
        "print('Prediction: \\n',preds)"
      ],
      "execution_count": 14,
      "outputs": [
        {
          "output_type": "stream",
          "text": [
            "Prediction: \n",
            " tensor([[ -63.8524,  -57.4898],\n",
            "        [ -71.1487,  -82.5619],\n",
            "        [ -72.2077, -150.2290],\n",
            "        [-105.9372,    1.1377],\n",
            "        [ -37.7299, -112.7237]], grad_fn=<AddBackward0>)\n"
          ],
          "name": "stdout"
        }
      ]
    },
    {
      "cell_type": "code",
      "metadata": {
        "id": "-F0Gd59nbgyE",
        "colab_type": "code",
        "colab": {
          "base_uri": "https://localhost:8080/",
          "height": 51
        },
        "outputId": "80a912c8-c2ce-46a2-ed62-e3766394f42a"
      },
      "source": [
        "# 2. Calculate the loss\n",
        "loss = mse(preds, targets)\n",
        "print('Loss: \\n', loss)"
      ],
      "execution_count": 15,
      "outputs": [
        {
          "output_type": "stream",
          "text": [
            "Loss: \n",
            " tensor(29539.6250, grad_fn=<DivBackward0>)\n"
          ],
          "name": "stdout"
        }
      ]
    },
    {
      "cell_type": "code",
      "metadata": {
        "id": "8TF79sCBb7t0",
        "colab_type": "code",
        "colab": {
          "base_uri": "https://localhost:8080/",
          "height": 68
        },
        "outputId": "65f6b5ca-479c-4097-f0e3-737e41fb9014"
      },
      "source": [
        "# 3. Compute loss gradients w.r.t. weights and biases\\\n",
        "loss.backward()  #This computes the gradient of whichever variable the `requires_grad` is set to `True`\n",
        "print('W Gradient: ',w.grad)\n",
        "print('b Gradient: ',b.grad)"
      ],
      "execution_count": 16,
      "outputs": [
        {
          "output_type": "stream",
          "text": [
            "W Gradient:  tensor([[-24795.9141, -26420.9590, -16226.3955],\n",
            "        [-28119.4805, -34574.1992, -20481.9473]])\n",
            "b Gradient:  tensor([-292.7504, -344.7467])\n"
          ],
          "name": "stdout"
        }
      ]
    },
    {
      "cell_type": "code",
      "metadata": {
        "id": "PAEfxmqmcnzJ",
        "colab_type": "code",
        "colab": {}
      },
      "source": [
        "# 4. Adjust the weights by subtracting a small quantity proportional to the gradient\n",
        "with torch.no_grad():\n",
        "    w -= w.grad * 1e-5\n",
        "    b -= b.grad * 1e-5\n",
        "    w.grad.zero_()\n",
        "    b.grad.zero_()"
      ],
      "execution_count": 0,
      "outputs": []
    },
    {
      "cell_type": "markdown",
      "metadata": {
        "id": "6VP83YszeV7Y",
        "colab_type": "text"
      },
      "source": [
        "A few things to note above:\n",
        "\n",
        "- We use torch.no_grad to indicate to PyTorch that we shouldn't track, calculate or modify gradients while updating the weights and biases. \n",
        "\n",
        "- We multiply the gradients with a really small number (10^-5 in this case), to ensure that we don't modify the weights by a really large amount, since we only want to take a small step in the downhill direction of the gradient. This number is called the learning rate of the algorithm. \n",
        "\n",
        "- After we have updated the weights, we reset the gradients back to zero, to avoid affecting any future computations."
      ]
    },
    {
      "cell_type": "code",
      "metadata": {
        "id": "clxQfVF8eM_v",
        "colab_type": "code",
        "colab": {
          "base_uri": "https://localhost:8080/",
          "height": 68
        },
        "outputId": "d691edae-1f22-4dbb-914d-fea767ec9785"
      },
      "source": [
        "print(w)\n",
        "print(b)"
      ],
      "execution_count": 19,
      "outputs": [
        {
          "output_type": "stream",
          "text": [
            "tensor([[-0.8144,  0.4968,  1.1319],\n",
            "        [ 1.3025, -0.7638,  0.0367]], requires_grad=True)\n",
            "tensor([-0.7898,  2.0310], requires_grad=True)\n"
          ],
          "name": "stdout"
        }
      ]
    },
    {
      "cell_type": "markdown",
      "metadata": {
        "id": "B51RJz4ZfXB-",
        "colab_type": "text"
      },
      "source": [
        "**------------Gradient Descent---------------**End"
      ]
    },
    {
      "cell_type": "markdown",
      "metadata": {
        "id": "P_MhX7UAeun1",
        "colab_type": "text"
      },
      "source": [
        "**Now with the new weights and biases, the model should have lower loss**"
      ]
    },
    {
      "cell_type": "code",
      "metadata": {
        "id": "CDr11Tgiefwz",
        "colab_type": "code",
        "colab": {
          "base_uri": "https://localhost:8080/",
          "height": 34
        },
        "outputId": "d2075f21-26e4-415a-b6e9-5c2bdf909481"
      },
      "source": [
        "# Calculating the loss again to see how much we are able to reduce the loss\n",
        "preds = model(inputs) # we need to initialize this line againg becuase inside the model function b amd w are persent and then only this will take efffect with our new w, b\n",
        "loss = mse(preds, targets)\n",
        "print(loss)"
      ],
      "execution_count": 22,
      "outputs": [
        {
          "output_type": "stream",
          "text": [
            "tensor(3951.8406, grad_fn=<DivBackward0>)\n"
          ],
          "name": "stdout"
        }
      ]
    },
    {
      "cell_type": "markdown",
      "metadata": {
        "id": "R3fj1UXYe_T6",
        "colab_type": "text"
      },
      "source": [
        "# Train for Multiple Epochs"
      ]
    },
    {
      "cell_type": "code",
      "metadata": {
        "id": "gOssU6xfhLqW",
        "colab_type": "code",
        "colab": {}
      },
      "source": [
        "for i in range(100):\n",
        "    preds = model(inputs)\n",
        "    loss = mse(preds, targets)\n",
        "    loss.backward()\n",
        "    with torch.no_grad():\n",
        "        w -= w.grad * 1e-5\n",
        "        b -= b.grad * 1e-5\n",
        "        w.grad.zero_()\n",
        "        b.grad.zero_()"
      ],
      "execution_count": 0,
      "outputs": []
    },
    {
      "cell_type": "code",
      "metadata": {
        "id": "Y_p7terths6i",
        "colab_type": "code",
        "colab": {
          "base_uri": "https://localhost:8080/",
          "height": 34
        },
        "outputId": "def0547a-957b-488b-dee1-b80efa8b8a17"
      },
      "source": [
        "# Lets calculate the loss after 100 epochs\n",
        "preds = model(inputs)\n",
        "loss = mse(preds, targets)\n",
        "print(loss)"
      ],
      "execution_count": 25,
      "outputs": [
        {
          "output_type": "stream",
          "text": [
            "tensor(489.4872, grad_fn=<DivBackward0>)\n"
          ],
          "name": "stdout"
        }
      ]
    },
    {
      "cell_type": "code",
      "metadata": {
        "id": "UObwQPH5h70j",
        "colab_type": "code",
        "colab": {
          "base_uri": "https://localhost:8080/",
          "height": 221
        },
        "outputId": "198ae7d5-8b41-471c-ce84-8634c3bf73ac"
      },
      "source": [
        "# Lets compare the preds and the targets again\n",
        "print('Prediction: \\n', preds)\n",
        "print('Target: \\n', targets)"
      ],
      "execution_count": 26,
      "outputs": [
        {
          "output_type": "stream",
          "text": [
            "Prediction: \n",
            " tensor([[ 56.0796,  80.5704],\n",
            "        [ 85.7269, 104.2248],\n",
            "        [112.4302, 108.3839],\n",
            "        [ 15.9675,  94.3433],\n",
            "        [110.8728,  92.2672]], grad_fn=<AddBackward0>)\n",
            "Target: \n",
            " tensor([[ 56.,  70.],\n",
            "        [ 81., 101.],\n",
            "        [119., 133.],\n",
            "        [ 22.,  37.],\n",
            "        [103., 119.]])\n"
          ],
          "name": "stdout"
        }
      ]
    },
    {
      "cell_type": "markdown",
      "metadata": {
        "id": "ilTrhdtsiQuR",
        "colab_type": "text"
      },
      "source": [
        "# **Linear Regression using PyTorch built-ins** start\n"
      ]
    },
    {
      "cell_type": "code",
      "metadata": {
        "id": "2QQSx-O0jjvV",
        "colab_type": "code",
        "colab": {}
      },
      "source": [
        "import torch.nn as nn"
      ],
      "execution_count": 0,
      "outputs": []
    },
    {
      "cell_type": "code",
      "metadata": {
        "id": "HyQiIIADytRu",
        "colab_type": "code",
        "colab": {}
      },
      "source": [
        "# Input (temp, rainfall, humidity)\n",
        "inputs = np.array([[73, 67, 43], [91, 88, 64], [87, 134, 58], \n",
        "                   [102, 43, 37], [69, 96, 70], [73, 67, 43], \n",
        "                   [91, 88, 64], [87, 134, 58], [102, 43, 37], \n",
        "                   [69, 96, 70], [73, 67, 43], [91, 88, 64], \n",
        "                   [87, 134, 58], [102, 43, 37], [69, 96, 70]], \n",
        "                  dtype='float32')\n",
        "\n",
        "# Targets (apples, oranges)\n",
        "targets = np.array([[56, 70], [81, 101], [119, 133], \n",
        "                    [22, 37], [103, 119], [56, 70], \n",
        "                    [81, 101], [119, 133], [22, 37], \n",
        "                    [103, 119], [56, 70], [81, 101], \n",
        "                    [119, 133], [22, 37], [103, 119]], \n",
        "                   dtype='float32')\n",
        "\n",
        "inputs = torch.from_numpy(inputs)\n",
        "targets = torch.from_numpy(targets)"
      ],
      "execution_count": 0,
      "outputs": []
    },
    {
      "cell_type": "markdown",
      "metadata": {
        "id": "8IshmUSIy5st",
        "colab_type": "text"
      },
      "source": [
        "### Dataset and DataLoader\n",
        "We'll create a `TensorDataset`, which allows access to rows from `inputs` and `targets` as `tuples`, and provides standard APIs for working with many different types of datasets in PyTorch."
      ]
    },
    {
      "cell_type": "code",
      "metadata": {
        "id": "737_aam8zPKe",
        "colab_type": "code",
        "colab": {}
      },
      "source": [
        "from torch.utils.data import TensorDataset"
      ],
      "execution_count": 0,
      "outputs": []
    },
    {
      "cell_type": "code",
      "metadata": {
        "id": "GL0kNKeuzWmP",
        "colab_type": "code",
        "colab": {
          "base_uri": "https://localhost:8080/",
          "height": 102
        },
        "outputId": "be6dedd2-b863-4786-f90a-dd670df01412"
      },
      "source": [
        "# Define dataset\n",
        "train_ds = TensorDataset(inputs, targets)\n",
        "train_ds[0:3]"
      ],
      "execution_count": 30,
      "outputs": [
        {
          "output_type": "execute_result",
          "data": {
            "text/plain": [
              "(tensor([[ 73.,  67.,  43.],\n",
              "         [ 91.,  88.,  64.],\n",
              "         [ 87., 134.,  58.]]), tensor([[ 56.,  70.],\n",
              "         [ 81., 101.],\n",
              "         [119., 133.]]))"
            ]
          },
          "metadata": {
            "tags": []
          },
          "execution_count": 30
        }
      ]
    },
    {
      "cell_type": "markdown",
      "metadata": {
        "id": "G5yb4463zsTj",
        "colab_type": "text"
      },
      "source": [
        "The `TensorDataset` allows us to access a small section of the training data using the array indexing notation (`[0:3]` in the above code). It returns a tuple (or pair), in which the first element contains the input variables for the selected rows, and the second contains the targets.\n",
        "\n",
        "We'll also create a `DataLoader`, which can split the data into batches of a predefined size while training. It also provides other utilities like shuffling and random sampling of the data."
      ]
    },
    {
      "cell_type": "code",
      "metadata": {
        "id": "lDICL0mt0Cu-",
        "colab_type": "code",
        "colab": {}
      },
      "source": [
        "from torch.utils.data import DataLoader"
      ],
      "execution_count": 0,
      "outputs": []
    },
    {
      "cell_type": "code",
      "metadata": {
        "id": "4ijOEEB20NY5",
        "colab_type": "code",
        "colab": {}
      },
      "source": [
        "# Defining data loader\n",
        "batch_size = 5\n",
        "train_dl = DataLoader(train_ds, batch_size, shuffle=True)"
      ],
      "execution_count": 0,
      "outputs": []
    },
    {
      "cell_type": "code",
      "metadata": {
        "id": "o0M7_Q4C0dmD",
        "colab_type": "code",
        "colab": {
          "base_uri": "https://localhost:8080/",
          "height": 187
        },
        "outputId": "24ffe5d0-944b-41f7-b5ab-3d061002a16f"
      },
      "source": [
        "for xb,yb in train_dl:\n",
        "    print(xb)\n",
        "    print(yb)\n",
        "    break"
      ],
      "execution_count": 33,
      "outputs": [
        {
          "output_type": "stream",
          "text": [
            "tensor([[ 73.,  67.,  43.],\n",
            "        [ 73.,  67.,  43.],\n",
            "        [102.,  43.,  37.],\n",
            "        [102.,  43.,  37.],\n",
            "        [ 91.,  88.,  64.]])\n",
            "tensor([[ 56.,  70.],\n",
            "        [ 56.,  70.],\n",
            "        [ 22.,  37.],\n",
            "        [ 22.,  37.],\n",
            "        [ 81., 101.]])\n"
          ],
          "name": "stdout"
        }
      ]
    },
    {
      "cell_type": "markdown",
      "metadata": {
        "id": "nYaQudCP04jp",
        "colab_type": "text"
      },
      "source": [
        "In each iteration, the data loader returns one batch of data, with the given batch size. If `shuffle` is set to `True`, it shuffles the training data before creating batches. Shuffling helps randomize the input to the optimization algorithm, which can lead to faster reduction in the loss."
      ]
    },
    {
      "cell_type": "markdown",
      "metadata": {
        "id": "ZTGVX7OT1Ld3",
        "colab_type": "text"
      },
      "source": [
        "# nn.Linear\n",
        "Instead of initializing the weights & biases manually, we can define the model using the nn.Linear class from PyTorch, which does it automatically."
      ]
    },
    {
      "cell_type": "code",
      "metadata": {
        "id": "arTiof5y1Po0",
        "colab_type": "code",
        "colab": {
          "base_uri": "https://localhost:8080/",
          "height": 102
        },
        "outputId": "fd81bfeb-b223-4cbc-ace7-c296fd6ac27f"
      },
      "source": [
        "# Defining Model\n",
        "model = nn.Linear(3, 2)\n",
        "print(model.weight)\n",
        "print(model.bias)"
      ],
      "execution_count": 34,
      "outputs": [
        {
          "output_type": "stream",
          "text": [
            "Parameter containing:\n",
            "tensor([[ 0.2614, -0.3836, -0.5516],\n",
            "        [ 0.5116,  0.1868, -0.1979]], requires_grad=True)\n",
            "Parameter containing:\n",
            "tensor([0.4856, 0.3416], requires_grad=True)\n"
          ],
          "name": "stdout"
        }
      ]
    },
    {
      "cell_type": "code",
      "metadata": {
        "id": "G3SCkQPd1kPE",
        "colab_type": "code",
        "colab": {
          "base_uri": "https://localhost:8080/",
          "height": 102
        },
        "outputId": "64ac1628-21a4-4e65-dd07-4fb9a82256d9"
      },
      "source": [
        "# Parameters\n",
        "list(model.parameters())"
      ],
      "execution_count": 35,
      "outputs": [
        {
          "output_type": "execute_result",
          "data": {
            "text/plain": [
              "[Parameter containing:\n",
              " tensor([[ 0.2614, -0.3836, -0.5516],\n",
              "         [ 0.5116,  0.1868, -0.1979]], requires_grad=True),\n",
              " Parameter containing:\n",
              " tensor([0.4856, 0.3416], requires_grad=True)]"
            ]
          },
          "metadata": {
            "tags": []
          },
          "execution_count": 35
        }
      ]
    },
    {
      "cell_type": "code",
      "metadata": {
        "id": "D6fXm8j_19zr",
        "colab_type": "code",
        "colab": {
          "base_uri": "https://localhost:8080/",
          "height": 272
        },
        "outputId": "de147073-e822-4264-835d-aaa251b7a148"
      },
      "source": [
        "# Lets generate Predictions\n",
        "preds = model(inputs)\n",
        "preds"
      ],
      "execution_count": 36,
      "outputs": [
        {
          "output_type": "execute_result",
          "data": {
            "text/plain": [
              "tensor([[-29.8472,  41.6933],\n",
              "        [-44.7794,  50.6682],\n",
              "        [-60.1606,  58.4001],\n",
              "        [ -9.7505,  53.2366],\n",
              "        [-56.9088,  39.7184],\n",
              "        [-29.8472,  41.6933],\n",
              "        [-44.7794,  50.6682],\n",
              "        [-60.1606,  58.4001],\n",
              "        [ -9.7505,  53.2366],\n",
              "        [-56.9088,  39.7184],\n",
              "        [-29.8472,  41.6933],\n",
              "        [-44.7794,  50.6682],\n",
              "        [-60.1606,  58.4001],\n",
              "        [ -9.7505,  53.2366],\n",
              "        [-56.9088,  39.7184]], grad_fn=<AddmmBackward>)"
            ]
          },
          "metadata": {
            "tags": []
          },
          "execution_count": 36
        }
      ]
    },
    {
      "cell_type": "markdown",
      "metadata": {
        "id": "v2a0V1ZA2JBU",
        "colab_type": "text"
      },
      "source": [
        "# Loss Function\n",
        "Instead of defining a loss function manually, we can use the built-in loss function `mse_loss`."
      ]
    },
    {
      "cell_type": "code",
      "metadata": {
        "id": "JlHW-awl2VeF",
        "colab_type": "code",
        "colab": {}
      },
      "source": [
        "# import nn.functional\n",
        "import torch.nn.functional as F"
      ],
      "execution_count": 0,
      "outputs": []
    },
    {
      "cell_type": "code",
      "metadata": {
        "id": "WhAgN_rp2eB2",
        "colab_type": "code",
        "colab": {}
      },
      "source": [
        "# Define loss function\n",
        "loss_fn = F.mse_loss"
      ],
      "execution_count": 0,
      "outputs": []
    },
    {
      "cell_type": "code",
      "metadata": {
        "id": "XD9tmtMP2tG3",
        "colab_type": "code",
        "colab": {
          "base_uri": "https://localhost:8080/",
          "height": 34
        },
        "outputId": "12c47c47-3636-4edf-8d57-606d9d4c1a17"
      },
      "source": [
        "loss = loss_fn(model(inputs), targets)\n",
        "print(loss)"
      ],
      "execution_count": 39,
      "outputs": [
        {
          "output_type": "stream",
          "text": [
            "tensor(9731.6504, grad_fn=<MseLossBackward>)\n"
          ],
          "name": "stdout"
        }
      ]
    },
    {
      "cell_type": "markdown",
      "metadata": {
        "id": "TJTlAkJg22vd",
        "colab_type": "text"
      },
      "source": [
        "# Optimizer\n",
        "Instead of manually manipulating the model's weights & biases using gradients, we can use the optimizer optim.SGD. SGD stands for stochastic gradient descent. It is called stochastic because samples are selected in batches (often with random shuffling) instead of as a single group."
      ]
    },
    {
      "cell_type": "code",
      "metadata": {
        "id": "3n_sd2Qh2-DB",
        "colab_type": "code",
        "colab": {}
      },
      "source": [
        "# Defining Optimizer\n",
        "opt = torch.optim.SGD(model.parameters(), lr = 1e-5)"
      ],
      "execution_count": 0,
      "outputs": []
    },
    {
      "cell_type": "markdown",
      "metadata": {
        "id": "jzW53onG3b-m",
        "colab_type": "text"
      },
      "source": [
        "# Train the model\n",
        "We are now ready to train the model. We'll follow the exact same process to implement gradient descent:\n",
        "\n",
        "1. Generate predictions\n",
        "\n",
        "2. Calculate the loss\n",
        "\n",
        "3. Compute gradients w.r.t the weights and biases\n",
        "\n",
        "4. Adjust the weights by subtracting a small quantity proportional to the gradient\n",
        "\n",
        "5. Reset the gradients to zero\n",
        "\n",
        "The only change is that we'll work batches of data, instead of processing the entire training data in every iteration. Let's define a utility function fit which trains the model for a given number of epochs."
      ]
    },
    {
      "cell_type": "code",
      "metadata": {
        "id": "7GQUL3P64_aN",
        "colab_type": "code",
        "colab": {}
      },
      "source": [
        "# Utility function to train the model\n",
        "def fit(num_epochs, model, loss_fn, opt, train_dl):\n",
        "    \n",
        "    # Repeat for given number of epochs\n",
        "    for epoch in range(num_epochs):\n",
        "        \n",
        "        # Train with batches of data\n",
        "        for xb,yb in train_dl:\n",
        "            \n",
        "            # 1. Generate predictions\n",
        "            pred = model(xb)\n",
        "            \n",
        "            # 2. Calculate loss\n",
        "            loss = loss_fn(pred, yb)\n",
        "            \n",
        "            # 3. Compute gradients\n",
        "            loss.backward()\n",
        "            \n",
        "            # 4. Update parameters using gradients\n",
        "            opt.step()\n",
        "            \n",
        "            # 5. Reset the gradients to zero\n",
        "            opt.zero_grad()\n",
        "        \n",
        "        # Print the progress\n",
        "        if (epoch+1) % 10 == 0:\n",
        "            print('Epoch [{}/{}], Loss: {:.4f}'.format(epoch+1, num_epochs, loss.item()))"
      ],
      "execution_count": 0,
      "outputs": []
    },
    {
      "cell_type": "code",
      "metadata": {
        "id": "myUgnYD75F7d",
        "colab_type": "code",
        "colab": {
          "base_uri": "https://localhost:8080/",
          "height": 187
        },
        "outputId": "2c80d86b-4b62-4b68-d789-e315072516de"
      },
      "source": [
        "fit(100, model, loss_fn, opt, train_dl)"
      ],
      "execution_count": 43,
      "outputs": [
        {
          "output_type": "stream",
          "text": [
            "Epoch [10/100], Loss: 616.8636\n",
            "Epoch [20/100], Loss: 910.7531\n",
            "Epoch [30/100], Loss: 382.6708\n",
            "Epoch [40/100], Loss: 376.0389\n",
            "Epoch [50/100], Loss: 273.8224\n",
            "Epoch [60/100], Loss: 9.3404\n",
            "Epoch [70/100], Loss: 139.7085\n",
            "Epoch [80/100], Loss: 94.6256\n",
            "Epoch [90/100], Loss: 77.4458\n",
            "Epoch [100/100], Loss: 67.7181\n"
          ],
          "name": "stdout"
        }
      ]
    },
    {
      "cell_type": "code",
      "metadata": {
        "id": "hK6jpmu_5Yt1",
        "colab_type": "code",
        "colab": {
          "base_uri": "https://localhost:8080/",
          "height": 272
        },
        "outputId": "a803e769-6db4-4aa0-a7d9-a4e5191d8e3c"
      },
      "source": [
        "# Generate predictions\n",
        "preds = model(inputs)\n",
        "preds"
      ],
      "execution_count": 44,
      "outputs": [
        {
          "output_type": "execute_result",
          "data": {
            "text/plain": [
              "tensor([[ 59.2414,  72.0684],\n",
              "        [ 79.0050,  96.4597],\n",
              "        [121.9039, 138.7687],\n",
              "        [ 32.7958,  47.1114],\n",
              "        [ 89.6632, 106.0563],\n",
              "        [ 59.2414,  72.0684],\n",
              "        [ 79.0050,  96.4597],\n",
              "        [121.9039, 138.7687],\n",
              "        [ 32.7958,  47.1114],\n",
              "        [ 89.6632, 106.0563],\n",
              "        [ 59.2414,  72.0684],\n",
              "        [ 79.0050,  96.4597],\n",
              "        [121.9039, 138.7687],\n",
              "        [ 32.7958,  47.1114],\n",
              "        [ 89.6632, 106.0563]], grad_fn=<AddmmBackward>)"
            ]
          },
          "metadata": {
            "tags": []
          },
          "execution_count": 44
        }
      ]
    },
    {
      "cell_type": "code",
      "metadata": {
        "id": "izGQI3HX5mjq",
        "colab_type": "code",
        "colab": {
          "base_uri": "https://localhost:8080/",
          "height": 272
        },
        "outputId": "063ba2ef-8d0e-4f0e-cc77-3bc3c98597ff"
      },
      "source": [
        "# Compare with targets\n",
        "targets"
      ],
      "execution_count": 45,
      "outputs": [
        {
          "output_type": "execute_result",
          "data": {
            "text/plain": [
              "tensor([[ 56.,  70.],\n",
              "        [ 81., 101.],\n",
              "        [119., 133.],\n",
              "        [ 22.,  37.],\n",
              "        [103., 119.],\n",
              "        [ 56.,  70.],\n",
              "        [ 81., 101.],\n",
              "        [119., 133.],\n",
              "        [ 22.,  37.],\n",
              "        [103., 119.],\n",
              "        [ 56.,  70.],\n",
              "        [ 81., 101.],\n",
              "        [119., 133.],\n",
              "        [ 22.,  37.],\n",
              "        [103., 119.]])"
            ]
          },
          "metadata": {
            "tags": []
          },
          "execution_count": 45
        }
      ]
    },
    {
      "cell_type": "markdown",
      "metadata": {
        "id": "iFdWXVsD5oLx",
        "colab_type": "text"
      },
      "source": [
        "# **Linear Regression using PyTorch built-ins** End\n",
        "\n"
      ]
    },
    {
      "cell_type": "markdown",
      "metadata": {
        "id": "XywNWfJj6wLM",
        "colab_type": "text"
      },
      "source": [
        "For an animated visualization of how linear regression works, [see this post.](https://jovian.ml/outlink?url=https%3A%2F%2Fhackernoon.com%2Fvisualizing-linear-regression-with-pytorch-9261f49edb09)\n",
        "\n",
        "For a more mathematical treatment of matrix calculus, linear regression and gradient descent, you should check out [Andrew Ng's excellent course notes](https://jovian.ml/outlink?url=https%3A%2F%2Fgithub.com%2FCleo-Stanford-CS%2FCS229_Notes%2Fblob%2Fmaster%2Flectures%2Fcs229-notes1.pdf) from CS229 at Stanford University.\n",
        "\n",
        "To practice and test your skills, you can participate in the [Boston Housing Price Prediction](https://jovian.ml/outlink?url=https%3A%2F%2Fwww.kaggle.com%2Fc%2Fboston-housing) competition on Kaggle, a website that hosts data science competitions."
      ]
    }
  ]
}