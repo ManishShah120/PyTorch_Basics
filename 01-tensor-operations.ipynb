{
 "cells": [
  {
   "cell_type": "markdown",
   "metadata": {},
   "source": [
    "# Deep Learning with PyTorch: Zero to GANs, Assignment 01\n",
    "### Top five tensor functions chosen by me:-\n",
    "\n",
    "As an assignment towards the lecture 1, I have chosen this 5 functions. According to me this 5 functions are must for every Deep Learning with PyTorch enthusiast.\n",
    "\n",
    "- torch.randn()\n",
    "- torch.sort()\n",
    "- torch.pow()\n",
    "- torch.round()\n",
    "- torch.det()"
   ]
  },
  {
   "cell_type": "code",
   "execution_count": 1,
   "metadata": {},
   "outputs": [],
   "source": [
    "# Import torch and other required modules\n",
    "import torch"
   ]
  },
  {
   "cell_type": "markdown",
   "metadata": {},
   "source": [
    "## Function 1 - torch.randn()\n",
    "`\n",
    "torch.randn(*size, out=None, dtype=None, layout=torch.strided, device=None, requires_grad=False) → Tensor\n",
    "`<br>\n",
    "Returns a tensor filled with random numbers from a normal distribution with mean 0 and variance 1 (also called the standard normal distribution).\n",
    "<br>\n",
    "The shape of the tensor is defined by the variable argument size.\n",
    "\n",
    "### Its has the following parameters\n",
    "\n",
    "- **size (int...)** – a sequence of integers defining the shape of the output tensor. Can be a variable number of arguments or a collection like a list or tuple.\n",
    "\n",
    "- **out (Tensor, optional)** – the output tensor.\n",
    "\n",
    "- **dtype (torch.dtype, optional)** – the desired data type of returned tensor. Default: if None, uses a global default (see torch.set_default_tensor_type()).\n",
    "\n",
    "- **layout (torch.layout, optional)** – the desired layout of returned Tensor. Default: torch.strided.\n",
    "\n",
    "- **device (torch.device, optional)** – the desired device of returned tensor. Default: if None, uses the current device for the default tensor type (see torch.set_default_tensor_type()). device will be the CPU for CPU tensor types and the current CUDA device for CUDA tensor types.\n",
    "\n",
    "- **requires_grad (bool, optional)** – If autograd should record operations on the returned tensor. Default: False."
   ]
  },
  {
   "cell_type": "code",
   "execution_count": 2,
   "metadata": {},
   "outputs": [
    {
     "name": "stdout",
     "output_type": "stream",
     "text": [
      "X:  tensor([[-0.5920, -0.2184, -1.2465],\n",
      "        [-1.4039, -0.6418, -0.2849],\n",
      "        [-0.9071,  1.6676,  0.1368],\n",
      "        [ 0.8382, -0.0290,  2.0863]])\n"
     ]
    }
   ],
   "source": [
    "# Example 1 - working (change this)\n",
    "x = torch.randn(4,3)\n",
    "print('X: ',x)"
   ]
  },
  {
   "cell_type": "markdown",
   "metadata": {},
   "source": [
    "In the above example I have created a tensor having 4 Rows and 3 Coulumn with 12 random elements."
   ]
  },
  {
   "cell_type": "code",
   "execution_count": 3,
   "metadata": {},
   "outputs": [
    {
     "name": "stdout",
     "output_type": "stream",
     "text": [
      "Y: \n",
      " tensor([[[ 0.6822,  0.1700, -0.4136],\n",
      "         [-0.6059, -0.2416, -1.6822],\n",
      "         [-0.6159,  0.3158,  0.2123],\n",
      "         [ 1.8296,  0.3534, -1.4471]],\n",
      "\n",
      "        [[-0.3172,  2.7545,  0.3334],\n",
      "         [-2.0384,  1.5353, -1.3347],\n",
      "         [ 1.5819, -1.3099, -0.5110],\n",
      "         [-0.7074, -0.8412, -1.1446]]])\n"
     ]
    }
   ],
   "source": [
    "# Example 2 - working\n",
    "y = torch.randn(2,4,3)\n",
    "print('Y: \\n',y)"
   ]
  },
  {
   "cell_type": "markdown",
   "metadata": {},
   "source": [
    "In the above example I have created a 3-D tensor having 2 subtensors of 4 Rows and 3 Coloumn."
   ]
  },
  {
   "cell_type": "code",
   "execution_count": 4,
   "metadata": {},
   "outputs": [
    {
     "ename": "TypeError",
     "evalue": "randn() received an invalid combination of arguments - got (), but expected one of:\n * (tuple of ints size, *, tuple of names names, torch.dtype dtype, torch.layout layout, torch.device device, bool pin_memory, bool requires_grad)\n * (tuple of ints size, *, torch.Generator generator, tuple of names names, torch.dtype dtype, torch.layout layout, torch.device device, bool pin_memory, bool requires_grad)\n * (tuple of ints size, *, torch.Generator generator, Tensor out, torch.dtype dtype, torch.layout layout, torch.device device, bool pin_memory, bool requires_grad)\n * (tuple of ints size, *, Tensor out, torch.dtype dtype, torch.layout layout, torch.device device, bool pin_memory, bool requires_grad)\n",
     "output_type": "error",
     "traceback": [
      "\u001b[0;31m---------------------------------------------------------------------------\u001b[0m",
      "\u001b[0;31mTypeError\u001b[0m                                 Traceback (most recent call last)",
      "\u001b[0;32m<ipython-input-4-ba1066bafe5e>\u001b[0m in \u001b[0;36m<module>\u001b[0;34m\u001b[0m\n\u001b[1;32m      1\u001b[0m \u001b[0;31m# Example 3 - breaking (to illustrate when it breaks)\u001b[0m\u001b[0;34m\u001b[0m\u001b[0;34m\u001b[0m\u001b[0;34m\u001b[0m\u001b[0m\n\u001b[0;32m----> 2\u001b[0;31m \u001b[0mz\u001b[0m \u001b[0;34m=\u001b[0m \u001b[0mtorch\u001b[0m\u001b[0;34m.\u001b[0m\u001b[0mrandn\u001b[0m\u001b[0;34m(\u001b[0m\u001b[0;34m)\u001b[0m\u001b[0;34m\u001b[0m\u001b[0;34m\u001b[0m\u001b[0m\n\u001b[0m\u001b[1;32m      3\u001b[0m \u001b[0mz\u001b[0m\u001b[0;34m\u001b[0m\u001b[0;34m\u001b[0m\u001b[0m\n",
      "\u001b[0;31mTypeError\u001b[0m: randn() received an invalid combination of arguments - got (), but expected one of:\n * (tuple of ints size, *, tuple of names names, torch.dtype dtype, torch.layout layout, torch.device device, bool pin_memory, bool requires_grad)\n * (tuple of ints size, *, torch.Generator generator, tuple of names names, torch.dtype dtype, torch.layout layout, torch.device device, bool pin_memory, bool requires_grad)\n * (tuple of ints size, *, torch.Generator generator, Tensor out, torch.dtype dtype, torch.layout layout, torch.device device, bool pin_memory, bool requires_grad)\n * (tuple of ints size, *, Tensor out, torch.dtype dtype, torch.layout layout, torch.device device, bool pin_memory, bool requires_grad)\n"
     ]
    }
   ],
   "source": [
    "# Example 3 - breaking (to illustrate when it breaks)\n",
    "z = torch.randn()\n",
    "z"
   ]
  },
  {
   "cell_type": "markdown",
   "metadata": {},
   "source": [
    "The above example produces an error because `randn()` function requires at least one positional arguments: \"**size**\" without which all the other arguments will not work too."
   ]
  },
  {
   "cell_type": "markdown",
   "metadata": {},
   "source": [
    "This is the most widely used function with PyTorch and is also the most usefull one. With this function we can create any `size` or `dimension` tensor. One of the main use of `randn()` function in Deep Learning is when we need to create or initialize an tensor of random elements for `weights` and `biases` to work with different regression models in Machine Learning."
   ]
  },
  {
   "cell_type": "markdown",
   "metadata": {},
   "source": [
    "---------------------"
   ]
  },
  {
   "cell_type": "markdown",
   "metadata": {},
   "source": [
    "## Function 2 - torch.sort()\n",
    "`torch.sort(input, dim=-1, descending=False, out=None) -> (Tensor, LongTensor)`\n",
    "\n",
    "This function sorts the elements of the `input` tensor along a given dimension in ascending order by value.\n",
    "\n",
    "**Its has the following parameters**\n",
    "- **input (Tensor)** – the input tensor.\n",
    "\n",
    "- **dim (int, optional)** – the dimension to sort along\n",
    "\n",
    "- **descending (bool, optional)** – controls the sorting order (ascending or descending)\n",
    "\n",
    "- **out (tuple, optional)** – the output tuple of (Tensor, LongTensor) that can be optionally given to be used as output buffers\n",
    "\n"
   ]
  },
  {
   "cell_type": "code",
   "execution_count": 5,
   "metadata": {},
   "outputs": [
    {
     "name": "stdout",
     "output_type": "stream",
     "text": [
      "Sorted tensor elements in Ascending order: \n",
      " tensor([[-2.1991, -2.0583, -1.0254, -0.7572, -0.6040, -0.5535, -0.4792, -0.4002,\n",
      "         -0.2411, -0.2043, -0.1280, -0.0542, -0.0376,  0.2922,  0.3992,  0.6432,\n",
      "          0.8323,  0.9499,  1.3544,  1.5031],\n",
      "        [-1.0499, -0.8839, -0.6659, -0.5950, -0.5275, -0.5081, -0.3294, -0.1818,\n",
      "         -0.0611, -0.0421,  0.1122,  0.1476,  0.2813,  0.3311,  0.3442,  0.3993,\n",
      "          0.8177,  1.5280,  1.5741,  1.5783],\n",
      "        [-1.1427, -1.0190, -0.8861, -0.6085, -0.5874, -0.3841, -0.1969, -0.0128,\n",
      "          0.3078,  0.4457,  0.4586,  0.5970,  0.6069,  0.6378,  0.6886,  1.3316,\n",
      "          1.3765,  1.4102,  1.8743,  2.1062],\n",
      "        [-1.8262, -0.8824, -0.6611, -0.5644, -0.3722, -0.2558, -0.2369, -0.1252,\n",
      "         -0.0363, -0.0272,  0.0678,  0.2578,  0.2794,  0.4999,  0.5469,  0.6988,\n",
      "          0.7285,  1.2892,  1.3993,  1.9027],\n",
      "        [-2.0376, -1.2251, -1.2177, -0.9508, -0.6074, -0.5420, -0.4655, -0.2945,\n",
      "         -0.2715, -0.1660, -0.1113,  0.0622,  0.0822,  0.1387,  0.2150,  0.3493,\n",
      "          0.7940,  1.2608,  1.4639,  1.7891],\n",
      "        [-1.5128, -1.4625, -1.0808, -0.9645, -0.6871, -0.5817, -0.5343, -0.4835,\n",
      "         -0.2822, -0.2197, -0.0262,  0.2558,  0.4615,  0.9474,  1.0983,  1.1418,\n",
      "          1.1457,  1.1912,  1.3535,  2.3795],\n",
      "        [-2.6392, -2.1655, -1.1390, -0.8038, -0.6625, -0.6483, -0.6262, -0.4935,\n",
      "         -0.1629, -0.1310, -0.1260,  0.2441,  0.3560,  0.4903,  0.5429,  0.8281,\n",
      "          0.9126,  1.0664,  1.8129,  2.6318],\n",
      "        [-1.9966, -1.5922, -1.4814, -1.0701, -0.8221, -0.7863, -0.1701,  0.2591,\n",
      "          0.5208,  0.5336,  0.5723,  0.6619,  0.7009,  0.8008,  1.1454,  1.2362,\n",
      "          1.3731,  1.4371,  1.8689,  2.3412],\n",
      "        [-1.9535, -1.9510, -1.7307, -1.2932, -0.8391, -0.6478, -0.4270, -0.3319,\n",
      "         -0.2389, -0.1687,  0.2227,  0.3288,  0.4451,  0.4546,  0.4860,  0.5822,\n",
      "          0.6871,  1.4956,  1.8242,  2.1582],\n",
      "        [-1.5696, -1.2438, -0.6630, -0.2780, -0.0103, -0.0061,  0.0322,  0.0338,\n",
      "          0.2291,  0.3150,  0.3927,  0.4877,  0.6669,  0.8138,  0.8815,  1.0664,\n",
      "          1.8723,  1.9470,  2.0110,  2.5402]])\n"
     ]
    }
   ],
   "source": [
    "# Example 1 - working\n",
    "a = torch.randn(10,20)\n",
    "sortedA, indicesA = torch.sort(a, descending=False)\n",
    "print('Sorted tensor elements in Ascending order: \\n',sortedA)"
   ]
  },
  {
   "cell_type": "markdown",
   "metadata": {},
   "source": [
    "In the above example with the help of `torch.sort()` I have sorted the elements of the `10,20` matrix in ascending order row wise."
   ]
  },
  {
   "cell_type": "code",
   "execution_count": 6,
   "metadata": {},
   "outputs": [
    {
     "name": "stdout",
     "output_type": "stream",
     "text": [
      "Sorted Elements: \n",
      " tensor([-2.2386, -1.9578, -1.8151, -1.8102, -1.6286, -1.5344, -1.4966, -1.3646,\n",
      "        -1.3340, -1.2924, -1.2729, -1.2490, -1.2048, -1.0744, -1.0260, -1.0049,\n",
      "        -0.9293, -0.9044, -0.8967, -0.8874, -0.8132, -0.7885, -0.7380, -0.7322,\n",
      "        -0.7133, -0.7097, -0.6034, -0.6008, -0.5704, -0.5551, -0.5477, -0.5189,\n",
      "        -0.5122, -0.4614, -0.4600, -0.4398, -0.3522, -0.3313, -0.3249, -0.3135,\n",
      "        -0.2706, -0.2665, -0.2540, -0.2260, -0.2100, -0.1766, -0.1604, -0.1532,\n",
      "        -0.0835, -0.0614, -0.0196, -0.0164,  0.0356,  0.0755,  0.1059,  0.1065,\n",
      "         0.1411,  0.1731,  0.1763,  0.2977,  0.3394,  0.3554,  0.3661,  0.3948,\n",
      "         0.5412,  0.5459,  0.6806,  0.6894,  0.7074,  0.7098,  0.7113,  0.7214,\n",
      "         0.7243,  0.7385,  0.7652,  0.7659,  0.7740,  0.8660,  0.8922,  0.9324,\n",
      "         0.9618,  0.9774,  1.0168,  1.0367,  1.0454,  1.1301,  1.1315,  1.1347,\n",
      "         1.1766,  1.2070,  1.2351,  1.2549,  1.4345,  1.4409,  1.4742,  1.4750,\n",
      "         1.5117,  2.0144,  2.0579,  2.1866])\n",
      "Indices of the elements according to their values: \n",
      " tensor([25, 26, 57, 63,  0, 22, 69, 54, 35, 49, 51, 94, 64, 17, 97, 16, 30, 48,\n",
      "        72, 56, 50, 29, 40, 13, 95, 20, 60, 58, 12, 90, 34, 89, 55, 92, 91, 47,\n",
      "        80, 65, 73,  5, 88, 27,  2, 11, 31, 84, 98, 53, 39, 21,  4, 86, 44, 32,\n",
      "        96, 93, 75, 38, 85, 43, 15, 33,  6, 77, 74, 76, 62, 41, 83, 59, 36, 10,\n",
      "        81, 28,  1, 67, 87,  9, 82, 66, 70,  7, 61,  8, 37, 42,  3, 19, 99, 14,\n",
      "        79, 71, 46, 52, 68, 23, 18, 24, 78, 45])\n"
     ]
    }
   ],
   "source": [
    "# Example 2 - working\n",
    "b = torch.randn(100)\n",
    "sortedb, indicesb = torch.sort(b,descending=False)\n",
    "print('Sorted Elements: \\n',sortedb)\n",
    "print('Indices of the elements according to their values: \\n',indicesb)"
   ]
  },
  {
   "cell_type": "markdown",
   "metadata": {},
   "source": [
    "In the above example I have sorted a `1D` tensor with the help of `torch.sort()` function."
   ]
  },
  {
   "cell_type": "code",
   "execution_count": 7,
   "metadata": {},
   "outputs": [
    {
     "ename": "NameError",
     "evalue": "name 'c' is not defined",
     "output_type": "error",
     "traceback": [
      "\u001b[0;31m---------------------------------------------------------------------------\u001b[0m",
      "\u001b[0;31mNameError\u001b[0m                                 Traceback (most recent call last)",
      "\u001b[0;32m<ipython-input-7-866d88591e43>\u001b[0m in \u001b[0;36m<module>\u001b[0;34m\u001b[0m\n\u001b[1;32m      1\u001b[0m \u001b[0;31m# Example 3 - breaking (to illustrate when it breaks)\u001b[0m\u001b[0;34m\u001b[0m\u001b[0;34m\u001b[0m\u001b[0;34m\u001b[0m\u001b[0m\n\u001b[0;32m----> 2\u001b[0;31m \u001b[0msortedc\u001b[0m \u001b[0;34m=\u001b[0m \u001b[0mtorch\u001b[0m\u001b[0;34m.\u001b[0m\u001b[0msort\u001b[0m\u001b[0;34m(\u001b[0m\u001b[0mc\u001b[0m\u001b[0;34m)\u001b[0m\u001b[0;34m\u001b[0m\u001b[0;34m\u001b[0m\u001b[0m\n\u001b[0m\u001b[1;32m      3\u001b[0m \u001b[0mprint\u001b[0m\u001b[0;34m(\u001b[0m\u001b[0msortedc\u001b[0m\u001b[0;34m)\u001b[0m\u001b[0;34m\u001b[0m\u001b[0;34m\u001b[0m\u001b[0m\n",
      "\u001b[0;31mNameError\u001b[0m: name 'c' is not defined"
     ]
    }
   ],
   "source": [
    "# Example 3 - breaking (to illustrate when it breaks)\n",
    "sortedc = torch.sort(c)\n",
    "print(sortedc)"
   ]
  },
  {
   "cell_type": "markdown",
   "metadata": {},
   "source": [
    "The above example breaks because for the `torch.sort()` functions to operate, an argument which is previsoly present has to be provided."
   ]
  },
  {
   "cell_type": "markdown",
   "metadata": {},
   "source": [
    "The `torch.sort()` function  is used to sort the elements of any tensor in ascending or descending order according to their value, and also the `torch.sort()` returns the indices of the elements from `(0,n-1)` according to the values of the tensor elements."
   ]
  },
  {
   "cell_type": "markdown",
   "metadata": {},
   "source": [
    "---"
   ]
  },
  {
   "cell_type": "markdown",
   "metadata": {},
   "source": [
    "## Function 3 - torch.pow()\n",
    "`torch.pow(input, exponent, out=None) → Tensor`\n",
    "\n",
    "This function Takes the power of each element in `input` with `exponent` and returns a tensor with the result.\n",
    "`exponent` can be either a single `float` number or a Tensor with the same number of elements as input.\n",
    "\n",
    "When exponent is a scalar value, the operation applied is:\n",
    "\n",
    "**<center>out<sub>i</sub> = x<sub>i</sub><sup>exponent</sup></center>**\n",
    " \n",
    "When exponent is a tensor, the operation applied is:\n",
    "\n",
    "**<center>out<sub>i</sub> = x<sub>i</sub><sup>exponent<sub>i</sub></sup></center>**\n",
    " \n",
    "When exponent is a tensor, the shapes of input and exponent must be broadcastable i.e., if a PyTorch operation supports broadcast, then its Tensor arguments can be automatically expanded to be of equal sizes (without making copies of the data)..\n",
    "\n",
    "**Its has the following parameters**\n",
    "- **input (Tensor)** – the input tensor.\n",
    "\n",
    "- **exponent (float or tensor)** – the exponent value\n",
    "\n",
    "- **out (Tensor, optional)** – the output tensor.\n"
   ]
  },
  {
   "cell_type": "code",
   "execution_count": 8,
   "metadata": {},
   "outputs": [
    {
     "name": "stdout",
     "output_type": "stream",
     "text": [
      "Value of P: \n",
      " tensor([-1.3319, -0.6649, -0.1012, -1.0675,  1.0436,  1.2512,  0.9339, -0.4077,\n",
      "        -0.7794, -0.2919])\n",
      "Value of P after applying .pow function: \n",
      " tensor([1.7740, 0.4421, 0.0102, 1.1395, 1.0891, 1.5655, 0.8722, 0.1662, 0.6075,\n",
      "        0.0852])\n"
     ]
    }
   ],
   "source": [
    "# Example 1 - working\n",
    "p = torch.randn(10)\n",
    "print('Value of P: \\n',p)\n",
    "p = torch.pow(p,2)\n",
    "print('Value of P after applying .pow function: \\n',p)"
   ]
  },
  {
   "cell_type": "markdown",
   "metadata": {},
   "source": [
    "In the above example I have squared each element of the `1D` tensor."
   ]
  },
  {
   "cell_type": "code",
   "execution_count": 9,
   "metadata": {},
   "outputs": [
    {
     "name": "stdout",
     "output_type": "stream",
     "text": [
      "Value of q: \n",
      " tensor([[ 0.1930,  0.8621, -0.0598, -0.8028],\n",
      "        [-0.2263,  1.5123,  0.6414,  0.6192],\n",
      "        [-0.4659, -1.1043, -1.0759,  0.2473]])\n",
      "Elements of q after dividing each element by itself raised to the power of 2: \n",
      " tensor([[ 26.8353,   1.3454, 279.9051,   1.5517],\n",
      "        [ 19.5219,   0.4373,   2.4311,   2.6084],\n",
      "        [  4.6068,   0.8201,   0.8639,  16.3479]])\n"
     ]
    }
   ],
   "source": [
    "# Example 2 - working\n",
    "q = torch.randn(3,4)\n",
    "print('Value of q: \\n',q)\n",
    "q = torch.pow(q,-2)\n",
    "print('Elements of q after dividing each element by itself raised to the power of 2: \\n',q)"
   ]
  },
  {
   "cell_type": "markdown",
   "metadata": {},
   "source": [
    "In the above example I have divided each element by itself raised to the power of 2."
   ]
  },
  {
   "cell_type": "code",
   "execution_count": 10,
   "metadata": {},
   "outputs": [
    {
     "name": "stdout",
     "output_type": "stream",
     "text": [
      "Value of r: \n",
      " tensor([[-1.1134,  0.4987,  1.3809, -0.2304,  1.8240],\n",
      "        [-0.4886,  0.8074, -0.8462,  0.0382,  1.4625],\n",
      "        [-0.4145,  1.0611, -1.1656,  0.3286, -0.1774],\n",
      "        [ 0.5727,  0.3004, -1.4625, -0.1778,  0.4879]])\n"
     ]
    },
    {
     "ename": "TypeError",
     "evalue": "pow() received an invalid combination of arguments - got (float), but expected one of:\n * (Tensor input, Tensor exponent, *, Tensor out)\n * (Number self, Tensor exponent, *, Tensor out)\n * (Tensor input, Number exponent, *, Tensor out)\n",
     "output_type": "error",
     "traceback": [
      "\u001b[0;31m---------------------------------------------------------------------------\u001b[0m",
      "\u001b[0;31mTypeError\u001b[0m                                 Traceback (most recent call last)",
      "\u001b[0;32m<ipython-input-10-997ed3dffbce>\u001b[0m in \u001b[0;36m<module>\u001b[0;34m\u001b[0m\n\u001b[1;32m      2\u001b[0m \u001b[0mr\u001b[0m \u001b[0;34m=\u001b[0m \u001b[0mtorch\u001b[0m\u001b[0;34m.\u001b[0m\u001b[0mrandn\u001b[0m\u001b[0;34m(\u001b[0m\u001b[0;36m4\u001b[0m\u001b[0;34m,\u001b[0m\u001b[0;36m5\u001b[0m\u001b[0;34m)\u001b[0m\u001b[0;34m\u001b[0m\u001b[0;34m\u001b[0m\u001b[0m\n\u001b[1;32m      3\u001b[0m \u001b[0mprint\u001b[0m\u001b[0;34m(\u001b[0m\u001b[0;34m'Value of r: \\n'\u001b[0m\u001b[0;34m,\u001b[0m\u001b[0mr\u001b[0m\u001b[0;34m)\u001b[0m\u001b[0;34m\u001b[0m\u001b[0;34m\u001b[0m\u001b[0m\n\u001b[0;32m----> 4\u001b[0;31m \u001b[0mr\u001b[0m \u001b[0;34m=\u001b[0m \u001b[0mtorch\u001b[0m\u001b[0;34m.\u001b[0m\u001b[0mpow\u001b[0m\u001b[0;34m(\u001b[0m\u001b[0;34m-\u001b[0m\u001b[0;36m0.98\u001b[0m\u001b[0;34m)\u001b[0m\u001b[0;34m\u001b[0m\u001b[0;34m\u001b[0m\u001b[0m\n\u001b[0m",
      "\u001b[0;31mTypeError\u001b[0m: pow() received an invalid combination of arguments - got (float), but expected one of:\n * (Tensor input, Tensor exponent, *, Tensor out)\n * (Number self, Tensor exponent, *, Tensor out)\n * (Tensor input, Number exponent, *, Tensor out)\n"
     ]
    }
   ],
   "source": [
    "# Example 3 - breaking (to illustrate when it breaks)\n",
    "r = torch.randn(4,5)\n",
    "print('Value of r: \\n',r)\n",
    "r = torch.pow(-0.98)"
   ]
  },
  {
   "cell_type": "markdown",
   "metadata": {},
   "source": [
    "The above example breaks beacuse the `torch.pow()` function requires an argument of the type matrix,number,Tensor etc to process them to that power."
   ]
  },
  {
   "cell_type": "markdown",
   "metadata": {},
   "source": [
    "The `torch.pow()` function is very usefull function when we are working with matrix, tensors, determinant etc. we can easily find the squares, cubes, of every element of a matrix."
   ]
  },
  {
   "cell_type": "markdown",
   "metadata": {},
   "source": [
    "---"
   ]
  },
  {
   "cell_type": "markdown",
   "metadata": {},
   "source": [
    "## Function 4 - torch.round()\n",
    "`torch.round(input, out=None) → Tensor`\n",
    "\n",
    "Returns a new tensor with each of the elements of `input` rounded to the closest integer.\n",
    "\n",
    "**Its has the following parameters**\n",
    "- **input (Tensor)** – the input tensor.\n",
    "- **out (Tensor, optional)** – the output tensor.\n"
   ]
  },
  {
   "cell_type": "code",
   "execution_count": 11,
   "metadata": {},
   "outputs": [
    {
     "name": "stdout",
     "output_type": "stream",
     "text": [
      "m: \n",
      " tensor([-12.3885,   3.8979,  -3.7547,  -7.5730,  -3.4935, -24.8415,   1.9059,\n",
      "          0.1227,  15.7279,  -5.5311,   4.2793,  -1.3735,  -0.3351,  19.9994,\n",
      "         -6.6800,   3.4005,   5.9941,  16.2860,   5.1336,   6.4227,   0.2689,\n",
      "          4.3704,   6.2479, -19.8787,  -4.8099,   4.4244,  10.8032,   2.7058,\n",
      "        -11.0726, -12.5349,  -0.8918, -10.6053,  -1.1584,   5.8533,   5.0602,\n",
      "        -11.3950,  11.7124,  -0.5873,  -5.2842,  -2.7306, -11.1543,   6.0312,\n",
      "         11.9412,   0.4816, -13.1112,  -8.0313,   8.1504, -11.9349,  14.1010,\n",
      "          9.7258])\n",
      "After rounding: \n",
      " tensor([-12.,   4.,  -4.,  -8.,  -3., -25.,   2.,   0.,  16.,  -6.,   4.,  -1.,\n",
      "         -0.,  20.,  -7.,   3.,   6.,  16.,   5.,   6.,   0.,   4.,   6., -20.,\n",
      "         -5.,   4.,  11.,   3., -11., -13.,  -1., -11.,  -1.,   6.,   5., -11.,\n",
      "         12.,  -1.,  -5.,  -3., -11.,   6.,  12.,   0., -13.,  -8.,   8., -12.,\n",
      "         14.,  10.])\n"
     ]
    }
   ],
   "source": [
    "# Example 1 - working\n",
    "m = torch.randn(50)*10\n",
    "print('m: \\n',m)\n",
    "m = torch.round(m)\n",
    "print('After rounding: \\n',m)"
   ]
  },
  {
   "cell_type": "markdown",
   "metadata": {},
   "source": [
    "In the above example I have rounded of every element of a 1D matrix`m` to its closest integer"
   ]
  },
  {
   "cell_type": "code",
   "execution_count": 12,
   "metadata": {},
   "outputs": [
    {
     "name": "stdout",
     "output_type": "stream",
     "text": [
      "n: \n",
      " tensor([[-12.8345,  -2.9560,  -5.2553, -11.4309,  -4.6741],\n",
      "        [  0.4952,   8.0011,  -0.6205,   5.2730,   0.4621],\n",
      "        [ -8.9586,   0.6913,  14.3178,  -7.4346,  -9.2766],\n",
      "        [ -5.5092, -11.0026,  -6.1492,  -2.7321, -11.9246],\n",
      "        [ 17.8632,  -4.1838, -14.3068,  -1.9312,  -2.6807],\n",
      "        [-12.7375,   5.4309,  16.4587,  -1.1173,  -3.9296],\n",
      "        [-20.0374,  -1.1680,   9.6117,   0.8820,  12.3250],\n",
      "        [ 13.0375,  -0.0316,   1.6852,  -9.7471,  -5.0131],\n",
      "        [-10.7766,   2.4458,   0.3199,  19.8068, -13.3489],\n",
      "        [-18.1848,   5.2997,   8.3156,  -1.8209,  -1.4442]])\n",
      "After rounding: \n",
      " tensor([[-13.,  -3.,  -5., -11.,  -5.],\n",
      "        [  0.,   8.,  -1.,   5.,   0.],\n",
      "        [ -9.,   1.,  14.,  -7.,  -9.],\n",
      "        [ -6., -11.,  -6.,  -3., -12.],\n",
      "        [ 18.,  -4., -14.,  -2.,  -3.],\n",
      "        [-13.,   5.,  16.,  -1.,  -4.],\n",
      "        [-20.,  -1.,  10.,   1.,  12.],\n",
      "        [ 13.,  -0.,   2., -10.,  -5.],\n",
      "        [-11.,   2.,   0.,  20., -13.],\n",
      "        [-18.,   5.,   8.,  -2.,  -1.]])\n"
     ]
    }
   ],
   "source": [
    "# Example 2 - working\n",
    "n = torch.randn(10,5)*10\n",
    "print('n: \\n',n)\n",
    "n = torch.round(n)\n",
    "print('After rounding: \\n',n)"
   ]
  },
  {
   "cell_type": "markdown",
   "metadata": {},
   "source": [
    "In the above example I have rounded all elements of a 2D matrix `n` to its nearest integer value."
   ]
  },
  {
   "cell_type": "code",
   "execution_count": 13,
   "metadata": {},
   "outputs": [
    {
     "name": "stdout",
     "output_type": "stream",
     "text": [
      "o: \n",
      " [[0.31079312 0.1947487  0.5374745 ]\n",
      " [0.74277246 0.76638274 0.37522906]\n",
      " [0.02303948 0.35328497 0.50590677]\n",
      " [0.21403249 0.93415963 0.81676156]\n",
      " [0.31237431 0.11411553 0.84052887]]\n"
     ]
    },
    {
     "ename": "TypeError",
     "evalue": "round(): argument 'input' (position 1) must be Tensor, not numpy.ndarray",
     "output_type": "error",
     "traceback": [
      "\u001b[0;31m---------------------------------------------------------------------------\u001b[0m",
      "\u001b[0;31mTypeError\u001b[0m                                 Traceback (most recent call last)",
      "\u001b[0;32m<ipython-input-13-a3bff870ffa2>\u001b[0m in \u001b[0;36m<module>\u001b[0;34m\u001b[0m\n\u001b[1;32m      3\u001b[0m \u001b[0mo\u001b[0m \u001b[0;34m=\u001b[0m \u001b[0mnp\u001b[0m\u001b[0;34m.\u001b[0m\u001b[0mrandom\u001b[0m\u001b[0;34m.\u001b[0m\u001b[0mrand\u001b[0m\u001b[0;34m(\u001b[0m\u001b[0;36m5\u001b[0m\u001b[0;34m,\u001b[0m\u001b[0;36m3\u001b[0m\u001b[0;34m)\u001b[0m\u001b[0;34m\u001b[0m\u001b[0;34m\u001b[0m\u001b[0m\n\u001b[1;32m      4\u001b[0m \u001b[0mprint\u001b[0m\u001b[0;34m(\u001b[0m\u001b[0;34m'o: \\n'\u001b[0m\u001b[0;34m,\u001b[0m\u001b[0mo\u001b[0m\u001b[0;34m)\u001b[0m\u001b[0;34m\u001b[0m\u001b[0;34m\u001b[0m\u001b[0m\n\u001b[0;32m----> 5\u001b[0;31m \u001b[0mo\u001b[0m \u001b[0;34m=\u001b[0m \u001b[0mtorch\u001b[0m\u001b[0;34m.\u001b[0m\u001b[0mround\u001b[0m\u001b[0;34m(\u001b[0m\u001b[0mo\u001b[0m\u001b[0;34m)\u001b[0m\u001b[0;34m\u001b[0m\u001b[0;34m\u001b[0m\u001b[0m\n\u001b[0m",
      "\u001b[0;31mTypeError\u001b[0m: round(): argument 'input' (position 1) must be Tensor, not numpy.ndarray"
     ]
    }
   ],
   "source": [
    "# Example 3 - breaking (to illustrate when it breaks)\n",
    "import numpy as np\n",
    "o = np.random.rand(5,3)\n",
    "print('o: \\n',o)\n",
    "o = torch.round(o)"
   ]
  },
  {
   "cell_type": "markdown",
   "metadata": {},
   "source": [
    "The above example breaks because the function `torch.round()` requires its input to be of the type `tensor` but the argument to it was provided of the type `numpy.ndarray`"
   ]
  },
  {
   "cell_type": "markdown",
   "metadata": {},
   "source": [
    "The function `torch.round()` is verry usefull when we are working with datasets containing huge number of rows with elements of verry similar type with small differences. We can use this function to round of the decimal numbers and have a integer numbered dataset."
   ]
  },
  {
   "cell_type": "markdown",
   "metadata": {},
   "source": [
    "---"
   ]
  },
  {
   "cell_type": "markdown",
   "metadata": {},
   "source": [
    "## Function 5 - torch.det()\n",
    "`torch.det(input) → Tensor`\n",
    "\n",
    "Calculates determinant of a square matrix or batches of square matrices.\n",
    "\n",
    "One thing to **note** is that:<br>\n",
    "Backward through `det()` internally uses SVD results when `input` is not invertible. In this case, double backward through `det()` will be unstable in when `input` doesn’t have distinct singular values. See `svd()` for details.\n",
    "\n",
    "**It has only one parameter**\n",
    "- **input (Tensor)** – the input tensor of size `(*, n, n)` where `*` is zero or more batch dimensions.\n"
   ]
  },
  {
   "cell_type": "code",
   "execution_count": 14,
   "metadata": {},
   "outputs": [
    {
     "name": "stdout",
     "output_type": "stream",
     "text": [
      "g: \n",
      " tensor([[ 1.9468, -0.8990, -2.8976, -0.0991,  0.2804],\n",
      "        [-2.0874, -1.5651, -0.6416,  1.0339, -0.9406],\n",
      "        [ 1.1748,  1.7234, -0.7249,  0.2515,  0.4928],\n",
      "        [ 0.9896,  0.2958,  0.2307,  0.9065, -0.3516],\n",
      "        [ 0.0759, -1.2318, -0.0718,  1.3853, -0.7760]])\n",
      "Determinant of g: \n",
      " tensor(3.9412)\n"
     ]
    }
   ],
   "source": [
    "# Example 1 - working\n",
    "g = torch.randn(5,5)\n",
    "print('g: \\n',g)\n",
    "print('Determinant of g: \\n',torch.det(g))"
   ]
  },
  {
   "cell_type": "markdown",
   "metadata": {},
   "source": [
    "In the above example I have calculated the determinant of `g` matrix."
   ]
  },
  {
   "cell_type": "code",
   "execution_count": 15,
   "metadata": {},
   "outputs": [
    {
     "name": "stdout",
     "output_type": "stream",
     "text": [
      "h: \n",
      " tensor([[[-0.6988,  0.4830, -0.5798, -0.6708, -0.1348],\n",
      "         [ 0.7242, -0.2111,  1.1545, -0.1202,  0.6138],\n",
      "         [ 0.4436, -0.8853,  0.0058,  1.7501,  0.1185],\n",
      "         [-1.3626,  0.8585,  0.9701, -0.9722, -1.4513],\n",
      "         [-1.3129, -0.2418, -1.4145, -0.1343, -1.7309]],\n",
      "\n",
      "        [[ 0.0678, -0.3322, -1.0623, -1.4052,  0.2504],\n",
      "         [ 0.5199,  0.0791,  1.4029, -1.9736,  1.3660],\n",
      "         [-2.3195,  0.8645, -1.0921, -0.9754, -1.3764],\n",
      "         [ 1.1002, -0.2191, -2.1193, -0.4716, -1.6756],\n",
      "         [ 0.2011,  0.6271, -1.7751, -0.4679,  2.0513]],\n",
      "\n",
      "        [[ 0.8184, -0.6205, -0.6867, -0.7977,  0.5309],\n",
      "         [ 0.4675,  0.7558, -0.6423, -1.4308, -0.6336],\n",
      "         [-0.2454,  0.3314,  0.0300, -0.1960,  0.0865],\n",
      "         [ 1.2832, -0.1300, -0.9258,  1.7563, -0.7155],\n",
      "         [-0.0040,  0.5543,  0.8026, -0.7096,  0.2504]]])\n",
      "Determinant of h: \n",
      " tensor([  1.1341, -40.9796,  -1.2252])\n"
     ]
    }
   ],
   "source": [
    "# Example 2 - working\n",
    "h = torch.randn(3,5,5)\n",
    "print('h: \\n',h)\n",
    "print('Determinant of h: \\n',torch.det(h))"
   ]
  },
  {
   "cell_type": "markdown",
   "metadata": {},
   "source": [
    "In the above example we have found the determinant of 3 `2D` matrix with the help of `torch.det()` function."
   ]
  },
  {
   "cell_type": "code",
   "execution_count": 16,
   "metadata": {},
   "outputs": [
    {
     "name": "stdout",
     "output_type": "stream",
     "text": [
      "i: \n",
      " tensor([ 1.0126e+00, -3.4785e-01, -1.0242e+00, -1.1218e+00,  7.7651e-01,\n",
      "        -9.2103e-01,  2.1521e-01,  7.5424e-01,  7.2489e-01, -9.6772e-01,\n",
      "         1.2994e+00,  4.0843e-01, -7.7892e-01, -6.6552e-01,  1.2852e+00,\n",
      "        -1.6347e+00, -1.8019e+00, -5.8304e-01, -7.1641e-03,  2.6614e+00,\n",
      "        -9.0267e-01, -6.2085e-01, -8.9144e-01,  2.0517e-01, -6.3365e-01,\n",
      "         7.0386e-01,  5.3186e-01, -7.7965e-01,  2.9091e-01,  1.9445e-01,\n",
      "         9.3103e-01, -9.8945e-01, -1.9075e+00, -1.6427e-01, -1.6112e-01,\n",
      "        -7.4778e-01,  2.2095e+00,  1.0981e+00, -6.9826e-01,  1.9373e+00,\n",
      "         7.1656e-01,  2.1135e+00, -8.7697e-01, -2.8182e-01,  3.8822e-01,\n",
      "         4.6808e-01,  8.6699e-01, -1.5372e+00, -1.4107e-02, -3.2518e-01,\n",
      "        -6.5052e-01, -9.9211e-01, -6.8172e-02,  6.4297e-01, -6.9022e-01,\n",
      "        -2.3403e+00, -1.5715e+00, -1.1470e-02, -5.0536e-01, -1.6180e-01,\n",
      "         7.4176e-01, -6.6837e-01,  6.8376e-01,  1.0455e+00, -1.4650e+00,\n",
      "        -5.7787e-04,  5.9455e-01,  5.2933e-01,  6.3048e-01,  1.7855e+00,\n",
      "         5.6663e-01, -6.8323e-01,  7.6895e-01, -7.7438e-01, -3.4074e-01,\n",
      "        -1.8140e+00,  1.5894e+00, -2.3591e-01,  6.3692e-02,  3.7327e-01,\n",
      "         8.1286e-01, -7.5847e-01, -1.5503e+00, -2.5246e-01, -4.4924e-01,\n",
      "        -6.6989e-01,  6.2701e-01,  1.2779e+00, -6.6003e-01,  8.3994e-01,\n",
      "        -3.4206e-01, -8.7845e-03, -1.6097e+00,  1.1498e-01,  3.3881e-01,\n",
      "         7.6777e-01, -2.5424e+00, -1.2916e-01,  1.3423e+00, -5.7892e-01])\n"
     ]
    },
    {
     "ename": "IndexError",
     "evalue": "Dimension out of range (expected to be in range of [-1, 0], but got -2)",
     "output_type": "error",
     "traceback": [
      "\u001b[0;31m---------------------------------------------------------------------------\u001b[0m",
      "\u001b[0;31mIndexError\u001b[0m                                Traceback (most recent call last)",
      "\u001b[0;32m<ipython-input-16-d10582ce7e8a>\u001b[0m in \u001b[0;36m<module>\u001b[0;34m\u001b[0m\n\u001b[1;32m      2\u001b[0m \u001b[0mi\u001b[0m \u001b[0;34m=\u001b[0m \u001b[0mtorch\u001b[0m\u001b[0;34m.\u001b[0m\u001b[0mrandn\u001b[0m\u001b[0;34m(\u001b[0m\u001b[0;36m100\u001b[0m\u001b[0;34m)\u001b[0m\u001b[0;34m\u001b[0m\u001b[0;34m\u001b[0m\u001b[0m\n\u001b[1;32m      3\u001b[0m \u001b[0mprint\u001b[0m\u001b[0;34m(\u001b[0m\u001b[0;34m'i: \\n'\u001b[0m\u001b[0;34m,\u001b[0m\u001b[0mi\u001b[0m\u001b[0;34m)\u001b[0m\u001b[0;34m\u001b[0m\u001b[0;34m\u001b[0m\u001b[0m\n\u001b[0;32m----> 4\u001b[0;31m \u001b[0mprint\u001b[0m\u001b[0;34m(\u001b[0m\u001b[0;34m'Determinant of i: \\n'\u001b[0m\u001b[0;34m,\u001b[0m\u001b[0mtorch\u001b[0m\u001b[0;34m.\u001b[0m\u001b[0mdet\u001b[0m\u001b[0;34m(\u001b[0m\u001b[0mi\u001b[0m\u001b[0;34m)\u001b[0m\u001b[0;34m)\u001b[0m\u001b[0;34m\u001b[0m\u001b[0;34m\u001b[0m\u001b[0m\n\u001b[0m",
      "\u001b[0;31mIndexError\u001b[0m: Dimension out of range (expected to be in range of [-1, 0], but got -2)"
     ]
    }
   ],
   "source": [
    "# Example 3 - breaking (to illustrate when it breaks)\n",
    "i = torch.randn(100)\n",
    "print('i: \\n',i)\n",
    "print('Determinant of i: \\n',torch.det(i))"
   ]
  },
  {
   "cell_type": "markdown",
   "metadata": {},
   "source": [
    "The above example fails because determinant can only be found for matrices greater than `1D`."
   ]
  },
  {
   "cell_type": "markdown",
   "metadata": {},
   "source": [
    "The function `torch.det()` can be used for performing various matrix operations when we are working on different discrete mathematics problems."
   ]
  },
  {
   "cell_type": "markdown",
   "metadata": {},
   "source": [
    "---"
   ]
  },
  {
   "cell_type": "markdown",
   "metadata": {},
   "source": [
    "## Conclusion\n",
    "\n",
    "So this are the functions which were covered int his notebook.\n",
    "\n",
    "- torch.randn()\n",
    "- torch.sort()\n",
    "- torch.pow()\n",
    "- torch.round()\n",
    "- torch.det()\n",
    "\n",
    "And learnt about how to work with this functions with different set of parameters and came to a conclusion part of each function where it was explained about when to use which function. Also at last section of every functions an example portion was also covered where the exaplaination was given as when or in which scenario the above function breaks."
   ]
  },
  {
   "cell_type": "markdown",
   "metadata": {},
   "source": [
    "## Reference Links\n",
    "Provide links to your references and other interesting articles about tensors\n",
    "* Official documentation for [`torch.Tensor`](https://pytorch.org/docs/stable/tensors.html)\n",
    "* Lecture 1 of [Deep Learning with PyTorch: Zero to GANs](https://jovian.ml/forum/t/lecture-1-pytorch-basics-linear-regression/1541)"
   ]
  },
  {
   "cell_type": "code",
   "execution_count": null,
   "metadata": {},
   "outputs": [],
   "source": [
    "!pip install jovian --upgrade --quiet"
   ]
  },
  {
   "cell_type": "code",
   "execution_count": 18,
   "metadata": {},
   "outputs": [],
   "source": [
    "import jovian"
   ]
  },
  {
   "cell_type": "code",
   "execution_count": 19,
   "metadata": {},
   "outputs": [
    {
     "data": {
      "application/javascript": [
       "window.require && require([\"base/js/namespace\"],function(Jupyter){Jupyter.notebook.save_checkpoint()})"
      ],
      "text/plain": [
       "<IPython.core.display.Javascript object>"
      ]
     },
     "metadata": {},
     "output_type": "display_data"
    },
    {
     "name": "stdout",
     "output_type": "stream",
     "text": [
      "[jovian] Attempting to save notebook..\n",
      "[jovian] Updating notebook \"manishshah120/01-tensor-operations-be876\" on https://jovian.ml/\n",
      "[jovian] Uploading notebook..\n",
      "[jovian] Capturing environment..\n",
      "[jovian] Committed successfully! https://jovian.ml/manishshah120/01-tensor-operations-be876\n"
     ]
    },
    {
     "data": {
      "text/plain": [
       "'https://jovian.ml/manishshah120/01-tensor-operations-be876'"
      ]
     },
     "execution_count": 19,
     "metadata": {},
     "output_type": "execute_result"
    }
   ],
   "source": [
    "jovian.commit(message=\"Done with Assignment01\")"
   ]
  },
  {
   "cell_type": "markdown",
   "metadata": {},
   "source": [
    "                            **------The End-----**"
   ]
  },
  {
   "cell_type": "code",
   "execution_count": null,
   "metadata": {},
   "outputs": [],
   "source": []
  }
 ],
 "metadata": {
  "kernelspec": {
   "display_name": "Python 3",
   "language": "python",
   "name": "python3"
  },
  "language_info": {
   "codemirror_mode": {
    "name": "ipython",
    "version": 3
   },
   "file_extension": ".py",
   "mimetype": "text/x-python",
   "name": "python",
   "nbconvert_exporter": "python",
   "pygments_lexer": "ipython3",
   "version": "3.7.6"
  }
 },
 "nbformat": 4,
 "nbformat_minor": 4
}
